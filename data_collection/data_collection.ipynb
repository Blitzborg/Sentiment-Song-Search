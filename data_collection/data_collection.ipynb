{
  "nbformat": 4,
  "nbformat_minor": 0,
  "metadata": {
    "colab": {
      "name": "Information Retrieval.ipynb",
      "provenance": []
    },
    "kernelspec": {
      "name": "python3",
      "display_name": "Python 3"
    },
    "accelerator": "GPU"
  },
  "cells": [
    {
      "cell_type": "code",
      "metadata": {
        "id": "9082K8u-FN-4",
        "colab": {
          "base_uri": "https://localhost:8080/"
        },
        "outputId": "a247a5b8-8e37-4663-a0c1-eb2fd29b952e"
      },
      "source": [
        "!pip install lyricsgenius"
      ],
      "execution_count": null,
      "outputs": [
        {
          "output_type": "stream",
          "text": [
            "Collecting lyricsgenius\n",
            "\u001b[?25l  Downloading https://files.pythonhosted.org/packages/09/60/94f2d049789f8e44634703468ec7d752e894a358dac337d138c2b45c190d/lyricsgenius-3.0.0-py3-none-any.whl (59kB)\n",
            "\r\u001b[K     |█████▌                          | 10kB 23.0MB/s eta 0:00:01\r\u001b[K     |███████████                     | 20kB 29.7MB/s eta 0:00:01\r\u001b[K     |████████████████▌               | 30kB 22.6MB/s eta 0:00:01\r\u001b[K     |██████████████████████          | 40kB 20.5MB/s eta 0:00:01\r\u001b[K     |███████████████████████████▌    | 51kB 22.2MB/s eta 0:00:01\r\u001b[K     |████████████████████████████████| 61kB 7.0MB/s \n",
            "\u001b[?25hRequirement already satisfied: requests>=2.20.0 in /usr/local/lib/python3.7/dist-packages (from lyricsgenius) (2.23.0)\n",
            "Requirement already satisfied: beautifulsoup4>=4.6.0 in /usr/local/lib/python3.7/dist-packages (from lyricsgenius) (4.6.3)\n",
            "Requirement already satisfied: certifi>=2017.4.17 in /usr/local/lib/python3.7/dist-packages (from requests>=2.20.0->lyricsgenius) (2020.12.5)\n",
            "Requirement already satisfied: idna<3,>=2.5 in /usr/local/lib/python3.7/dist-packages (from requests>=2.20.0->lyricsgenius) (2.10)\n",
            "Requirement already satisfied: urllib3!=1.25.0,!=1.25.1,<1.26,>=1.21.1 in /usr/local/lib/python3.7/dist-packages (from requests>=2.20.0->lyricsgenius) (1.24.3)\n",
            "Requirement already satisfied: chardet<4,>=3.0.2 in /usr/local/lib/python3.7/dist-packages (from requests>=2.20.0->lyricsgenius) (3.0.4)\n",
            "Installing collected packages: lyricsgenius\n",
            "Successfully installed lyricsgenius-3.0.0\n"
          ],
          "name": "stdout"
        }
      ]
    },
    {
      "cell_type": "code",
      "metadata": {
        "id": "S_HCdDC-B-04",
        "colab": {
          "base_uri": "https://localhost:8080/"
        },
        "outputId": "c545c493-f54a-45d8-855c-6d49ea5ccb52"
      },
      "source": [
        "#libraries used to extract, clean and manipulate the data\n",
        "#from helpers import *\n",
        "import pandas as pd\n",
        "import numpy as np\n",
        "import string\n",
        "#To plot the graphs\n",
        "from wordcloud import WordCloud\n",
        "import matplotlib.pyplot as plt\n",
        "plt.style.use('seaborn')\n",
        "#library used to count the frequency of words\n",
        "from sklearn.feature_extraction.text import CountVectorizer\n",
        "#To create the sentiment analysis model, tokenization and lemmatization\n",
        "import nltk\n",
        "nltk.download('stopwords')\n",
        "from nltk.sentiment.vader import SentimentIntensityAnalyzer\n",
        "from nltk import word_tokenize\n",
        "import nltk.data\n",
        "nltk.download('vader_lexicon')\n",
        "nltk.download('punkt')"
      ],
      "execution_count": null,
      "outputs": [
        {
          "output_type": "stream",
          "text": [
            "[nltk_data] Downloading package stopwords to /root/nltk_data...\n",
            "[nltk_data]   Unzipping corpora/stopwords.zip.\n",
            "[nltk_data] Downloading package vader_lexicon to /root/nltk_data...\n",
            "[nltk_data] Downloading package punkt to /root/nltk_data...\n",
            "[nltk_data]   Unzipping tokenizers/punkt.zip.\n"
          ],
          "name": "stdout"
        },
        {
          "output_type": "stream",
          "text": [
            "/usr/local/lib/python3.7/dist-packages/nltk/twitter/__init__.py:20: UserWarning: The twython library has not been installed. Some functionality from the twitter package will not be available.\n",
            "  warnings.warn(\"The twython library has not been installed. \"\n"
          ],
          "name": "stderr"
        },
        {
          "output_type": "execute_result",
          "data": {
            "text/plain": [
              "True"
            ]
          },
          "metadata": {
            "tags": []
          },
          "execution_count": 2
        }
      ]
    },
    {
      "cell_type": "code",
      "metadata": {
        "id": "EN17U61AEa0m",
        "colab": {
          "base_uri": "https://localhost:8080/"
        },
        "outputId": "6811f019-5fc0-4c89-b161-4f6dc1919d5b"
      },
      "source": [
        "import lyricsgenius as genius\n",
        "import pandas as pd\n",
        "import string \n",
        "\n",
        "import nltk\n",
        "from nltk.tokenize import word_tokenize\n",
        "from nltk.stem import WordNetLemmatizer \n",
        "from nltk.corpus import stopwords\n",
        "nltk.download('stopwords')\n",
        "nltk.download('wordnet')      \n",
        "\n",
        "\n",
        "def search_data(query,n,access_token):\n",
        "    \"\"\"\n",
        "    This function uses the library lyricsgenius to extract the fields\n",
        "    title, artist, album, date and lyrics and stores them into a pandas dataframe\n",
        "    parameters:\n",
        "    query = artist or band to search\n",
        "    n = max numbers of songs\n",
        "    access_token = your access token of the genius api\n",
        "    \"\"\"\n",
        "    \n",
        "    api = genius.Genius(access_token)\n",
        "\n",
        "    list_lyrics = []\n",
        "    list_title = []\n",
        "    list_artist = []\n",
        "    list_album = []\n",
        "    list_year = []\n",
        "\n",
        "    artist = api.search_artist(query,max_songs=n,sort='popularity')\n",
        "    songs = artist.songs\n",
        "    for song in songs:\n",
        "        list_lyrics.append(song.lyrics)\n",
        "        list_title.append(song.title)\n",
        "        list_artist.append(song.artist)\n",
        "        #list_album.append(song.album)\n",
        "        #list_year.append(song.year)\n",
        "\n",
        "    df = pd.DataFrame({'artist':list_artist,'title':list_title,\n",
        "                        'lyric':list_lyrics})\n",
        "    \n",
        "    return df\n",
        "\n",
        "def clean_lyrics(df,column):\n",
        "    \"\"\"\n",
        "    This function cleans the words without importance and fix the format of the  dataframe's column lyrics \n",
        "    parameters:\n",
        "    df = dataframe\n",
        "    column = name of the column to clean\n",
        "    \"\"\"\n",
        "    df = df\n",
        "    df[column] = df[column].str.lower()\n",
        "    df[column] = df[column].str.replace(r\"verse |[1|2|3]|chorus|bridge|outro\",\"\").str.replace(\"[\",\"\").str.replace(\"]\",\"\")\n",
        "    df[column] = df[column].str.lower().str.replace(r\"instrumental|intro|guitar|solo\",\"\")\n",
        "    df[column] = df[column].str.replace(\"\\n\",\" \").str.replace(r\"[^\\w\\d'\\s]+\",\"\").str.replace(\"efil ym fo flah\",\"\")\n",
        "    df[column] = df[column].str.strip()\n",
        "\n",
        "    return df\n",
        "\n",
        "def lyrics_to_words(document):\n",
        "    \"\"\"\n",
        "    This function splits the text of lyrics to  single words, removing stopwords and doing the lemmatization to each word\n",
        "    parameters:\n",
        "    document: text to split to single words\n",
        "    \"\"\"\n",
        "    stop_words = set(stopwords.words('english'))\n",
        "    exclude = set(string.punctuation)\n",
        "    lemma = WordNetLemmatizer()\n",
        "    stopwordremoval = \" \".join([i for i in document.lower().split() if i not in stop_words])\n",
        "    punctuationremoval = ''.join(ch for ch in stopwordremoval if ch not in exclude)\n",
        "    normalized = \" \".join(lemma.lemmatize(word) for word in punctuationremoval.split())\n",
        "    return normalized"
      ],
      "execution_count": null,
      "outputs": [
        {
          "output_type": "stream",
          "text": [
            "[nltk_data] Downloading package stopwords to /root/nltk_data...\n",
            "[nltk_data]   Package stopwords is already up-to-date!\n",
            "[nltk_data] Downloading package wordnet to /root/nltk_data...\n",
            "[nltk_data]   Unzipping corpora/wordnet.zip.\n"
          ],
          "name": "stdout"
        }
      ]
    },
    {
      "cell_type": "code",
      "metadata": {
        "id": "ttS-9qAXFdn7",
        "colab": {
          "base_uri": "https://localhost:8080/"
        },
        "outputId": "f68596ff-e2b9-4fd5-e0b1-2dac29fcc7f1"
      },
      "source": [
        "access_token = \"eMiXYR0GF3D5dBmYyjqke6STCiR3MoWJ6sMZFwe4AG14vIwLvuZ8qRRzK157HKcd\"\n",
        "#list1 = [' Adele ', ' Joey + Rory ', ' Draaco Aventura ', ' Justin Bieber ', ' Chris Janson ', ' One Direction ', ' Drake ', ' Carrie Underwood ', ' Ed Sheeran ', ' Taylor Swift ', ' SayWeCanFly ', ' Selena Gomez ', ' Chris Brown ', ' Nicki Minaj ', ' Fifth Harmony ', ' Thomas Rhett  ', ' Eminem ', ' Beyonce ', ' Meghan Trainor ', ' Twenty One Pilots ', ' Fetty Wap ', ' 5 Seconds Of Summer ', ' Jason Aldean ', ' Luke Bryan ', ' Blake Shelton ', ' Rihanna ', ' Elvis Presley ', ' Ariana Grande ', ' JD Shelburne ', ' Lil Wayne ', ' Demi Lovato ', ' Maroon 5 ', ' Sam Hunt ', ' George Strait ', ' Wiz Khalifa ', ' Miranda Lambert ', ' DJ Khaled ', ' Porno for Pyros ', ' Katy Perry ', ' Miley Cyrus ', ' Tim McGraw ', ' The Weeknd ', ' Macklemore & Ryan Lewis ', ' Ellie Goulding ', ' Michael Jackson ', ' Rascal Flatts ', ' Britney Spears ', ' Zac Brown Band ', ' Hearty2Raw ', ' Future ', ' Lady Antebellum ', ' Adam Levine ', ' Janet Jackson ', ' Keith Urban ', ' Sam Smith ', ' Jason Derulo ', ' Tori Kelly ', ' 2Pac ', ' Ciara ', ' Old Dominion ', ' Randy Houser ', ' Eric Church ', ' Shakira ', ' Bruno Mars ', ' Little Big Town ', ' Rick Ross ', ' Toby Keith ', ' Brian Collins ', ' Sia ', ' Dixie Chicks ', ' Kanye West ', ' Shania Twain ', ' Enrique Iglesias ', ' The Band Perry ', ' Kellie Pickler ', ' Randy Owen ', ' Kelsea Ballerini ', ' Lana Del Rey ', ' Freddie Mercury ', ' Martin Garrix ', ' Brett Eldredge ', ' Trey Songz ', ' Young Thug ', ' Mariah Carey ', ' Jennifer Lopez ', ' Shawn Mendes ', ' Halsey ', ' The XX ', ' Kurt Stevens ', ' R. Kelly ', ' 50 Cent ', ' Kenny Chesney ', ' Linkin Park ', ' Akon ', ' Avenged Sevenfold ', ' John Legend ', ' Cole Swindell ', ' Justin Moore ', ' Jewel ', ' Maddie & Tae ', ' Chris Young ', ' Hunter Hayes ', ' Canaan Smith ', ' Madonna ', ' Albert Phillips ', ' Brantley Gilbert ', ' Coldplay ', ' Jay Z ', ' Lady Gaga ', ' Lil Fizz ', ' Iggy Azalea ', ' Chase Rice ', ' Danielle Bradbery ', ' Dustin Lynch ', ' Kacey Musgraves ', ' Alan Jackson ', ' Backstreet Boys ', ' Hank Williams, Jr. ', ' The Vamps ', ' Jaden Smith ', ' JoJo ', ' Kendrick Lamar ', ' Becky G ', ' Josh Turner ', ' Brad Paisley ', ' Gwen Stefani ', ' Mikel Knight ', ' Rachel Platten ', ' Reba McEntire ', ' Darius Rucker ', ' Florida Georgia Line ', ' Barbra Streisand ', ' Fall Out Boy ', ' Prince ', ' K. Michelle ', ' Little Mix ', ' BLACKBEAR ', ' Calvin Harris ', ' Jana Kramer ', ' Kenny Rogers ', ' T.I. ', ' Troye Sivan ', ' Brothers Osborne ', ' Rita Ora ', ' TLC ', ' Aaliyah ', ' Kirk Franklin ', ' Kid Rock ', ' Skrillex ', ' Ed Roman ', ' Don Williams ', ' Lonestar ', ' Nelly ', ' Willie Nelson ', ' Zonke ', ' Charli XCX ', ' X Ambassadors ', ' Jessie J ', ' Westlife ', ' Tinashe ', ' DMX ', ' Meek Mill ', ' Usher ', ' BRANDY CLARK ', ' Dolly Parton ', ' Foo Fighters ', ' Mark Wills ', ' Prince Royce ', ' Pentatonix ', ' Flo Rida ', ' Whitney Houston ', ' Avril Lavigne ', ' Pharrell Williams ', ' Dwight Yoakam ', ' Lee Brice ', ' Barbara Mandrell ', ' Black Veil Brides ', ' Jamey Johnson ', ' Jimmy Fortune ', ' YonnieMcfly ', ' Johnny Cash ', ' Nick Jonas ', ' Vince Gill ', ' Imagine Dragons ', ' Jake Owen ', ' Larry Hernandez ', ' Martina McBride ', ' Colt Ford ', ' Dierks Bentley ', \" Guns N' Roses \", ' Justin Timberlake ', ' Kelly Clarkson ', ' Metallica ', ' Scotty McCreery ', ' The Weekend ', ' Bim Skala Bim ', ' Mark Ronson ', ' Merle Haggard ', ' Bea Miller ', ' Alessia Cara ', ' A Thousand Horses ', ' Brooks & Dunn ', ' Elle King ', ' Rod Stewart ', ' The Cadillac Three ', ' Jacob Whitesides ', ' Ja Rule ', ' Lauren Alaina ', ' Marc Anthony ', ' The Game ', ' The Pussycat Dolls ', ' Tyler Farr ', ' Clare Dunn ', ' Adam Lambert ', ' Andrea Bocelli ', ' Gary Allan ', ' George Jones ', ' Joe Jonas ', ' Krystal Keith ', ' Ray Charles ', ' Red Hot Chili Peppers ', ' The Oak Ridge Boys ', ' Kevin Gates ', ' Cassadee Pope ', ' August Alsina ', ' Rich Homie Quan ', ' Air Supply ', ' Brandy ', ' OneRepublic ', ' Pitbull ', ' Robin Thicke ', ' Snoop Dogg ', ' Travis Tritt ', ' Chvrches ', ' Lorde ', ' Alison Krauss & Union Station ', ' A$AP Rocky ', ' Jeremih ', ' Panic! At the Disco ', ' Sheryl Crow ', ' Trace Adkins ', ' Tyga ', ' Ruby Rose ', ' Bone Thugs-n-Harmony ', ' David Nail ', ' Duran Duran ', ' Kip Moore ', ' Wallpaper. ', ' Dej Loaf ']\n",
        "#'Adele', 'Justin Bieber',' One Direction ','Halsey','Adam Levine','Jason Derulo','Drake ', 'Carrie Underwood'\n",
        "list2 =['Carrie Underwood ', ' Ed Sheeran ', ' Taylor Swift ', ' SayWeCanFly ', ' Selena Gomez ', ' Chris Brown ', ' Nicki Minaj ', ' Fifth Harmony ', ' Thomas Rhett  ', ' Eminem ', ' Beyonce ', ' Meghan Trainor ', ' Twenty One Pilots ', ' Fetty Wap ', ' 5 Seconds Of Summer ',' Rihanna ', ' Elvis Presley ', ' Ariana Grande ',' Lil Wayne ', ' Demi Lovato ', ' Maroon 5 ','Blake Shelton',' Miranda Lambert ', ' DJ Khaled ', ' Porno for Pyros ', ' Katy Perry ', ' Miley Cyrus ', ' Tim McGraw ', ' The Weeknd ', ' Macklemore & Ryan Lewis ', ' Ellie Goulding ', ' Michael Jackson ', ' Rascal Flatts ', ' Britney Spears ',' Shakira ', ' Bruno Mars ','Sia', 'Kanye West','Enrique Iglesias','Future','50 Cent','Akon','Shawn Mendes', 'Jennifer Lopez']\n",
        "\n",
        "df1 = []\n",
        "df1 = pd.DataFrame(df1)\n",
        "import time\n",
        "df0 = search_data('Gavin DeGraw', 50, access_token)\n",
        "df1 = df0.append(df1)\n",
        "#for x in list2:\n",
        "#  time.sleep(1)\n",
        "#  try:\n",
        "#    df0 = search_data(x,50,access_token)\n",
        " #   df1 = df0.append(df1)\n",
        " # except:\n",
        " #   print(\"CANNOT\")"
      ],
      "execution_count": null,
      "outputs": [
        {
          "output_type": "stream",
          "text": [
            "Searching for songs by Gavin DeGraw...\n",
            "\n",
            "Song 1: \"I Don’t Want to Be\"\n",
            "Song 2: \"Not Over You\"\n",
            "Song 3: \"Chariot\"\n",
            "Song 4: \"She Sets the City on Fire\"\n",
            "Song 5: \"In Love With a Girl\"\n",
            "Song 6: \"Fire\"\n",
            "Song 7: \"Sweeter\"\n",
            "Song 8: \"Best I Ever Had\"\n",
            "Song 9: \"You Got Me\"\n",
            "Song 10: \"Making Love With The Radio On\"\n",
            "Song 11: \"Soldier\"\n",
            "Song 12: \"Something Worth Saving\"\n",
            "Song 13: \"More Than Anyone\"\n",
            "Song 14: \"Follow Through\"\n",
            "Song 15: \"We Belong Together\"\n",
            "Song 16: \"Kite Like Girl\"\n",
            "Song 17: \"Belief\"\n",
            "Song 18: \"Harder to Believe\"\n",
            "Song 19: \"Say I Am\"\n",
            "Song 20: \"Finest Hour\"\n",
            "Song 21: \"Annalee\"\n",
            "Song 22: \"You Make My Heart Sing Louder\"\n",
            "Song 23: \"Make a Move\"\n",
            "Song 24: \"(Nice to Meet You) Anyway\"\n",
            "Song 25: \"How Lucky Can a Man Get\"\n",
            "Song 26: \"Just Friends\"\n",
            "Song 27: \"Meaning\"\n",
            "Song 28: \"Everything Will Change\"\n",
            "Song 29: \"Glass\"\n",
            "Song 30: \"Free\"\n",
            "Song 31: \"Stealing\"\n",
            "Song 32: \"Cheated on Me\"\n",
            "Song 33: \"Crush\"\n",
            "Song 34: \"I’m Gonna Try\"\n",
            "Song 35: \"Run Every Time\"\n",
            "Song 36: \"I Have You to Thank\"\n",
            "Song 37: \"She Holds a Key\"\n",
            "Song 38: \"New Love\"\n",
            "Song 39: \"Radiation\"\n",
            "Song 40: \"You Know Where I’m At\"\n",
            "Song 41: \"Chemical Party\"\n",
            "Song 42: \"Who’s Gonna Save Us\"\n",
            "Song 43: \"Change is Gonna Come\"\n",
            "Song 44: \"Over-Rated\"\n",
            "Song 45: \"Candy\"\n",
            "Song 46: \"Spell It Out\"\n",
            "Song 47: \"Different for Girls\"\n",
            "Song 48: \"Dreams\"\n",
            "Song 49: \"Dancing Shoes\"\n",
            "Song 50: \"We Are The Champions\"\n",
            "\n",
            "Reached user-specified song limit (50).\n",
            "Done. Found 50 songs.\n"
          ],
          "name": "stdout"
        }
      ]
    },
    {
      "cell_type": "code",
      "metadata": {
        "id": "KW3bkmnWHTdW",
        "colab": {
          "base_uri": "https://localhost:8080/",
          "height": 1000
        },
        "outputId": "d3d456df-bcc8-4814-ce6d-b7e86e689ebb"
      },
      "source": [
        "df0"
      ],
      "execution_count": null,
      "outputs": [
        {
          "output_type": "execute_result",
          "data": {
            "text/html": [
              "<div>\n",
              "<style scoped>\n",
              "    .dataframe tbody tr th:only-of-type {\n",
              "        vertical-align: middle;\n",
              "    }\n",
              "\n",
              "    .dataframe tbody tr th {\n",
              "        vertical-align: top;\n",
              "    }\n",
              "\n",
              "    .dataframe thead th {\n",
              "        text-align: right;\n",
              "    }\n",
              "</style>\n",
              "<table border=\"1\" class=\"dataframe\">\n",
              "  <thead>\n",
              "    <tr style=\"text-align: right;\">\n",
              "      <th></th>\n",
              "      <th>artist</th>\n",
              "      <th>title</th>\n",
              "      <th>lyric</th>\n",
              "    </tr>\n",
              "  </thead>\n",
              "  <tbody>\n",
              "    <tr>\n",
              "      <th>0</th>\n",
              "      <td>Gavin DeGraw</td>\n",
              "      <td>I Don’t Want to Be</td>\n",
              "      <td>[Verse 1]\\nI don't need to be anything other\\n...</td>\n",
              "    </tr>\n",
              "    <tr>\n",
              "      <th>1</th>\n",
              "      <td>Gavin DeGraw</td>\n",
              "      <td>Not Over You</td>\n",
              "      <td>[Verse 1]\\nDreams: that's where I have to go\\n...</td>\n",
              "    </tr>\n",
              "    <tr>\n",
              "      <th>2</th>\n",
              "      <td>Gavin DeGraw</td>\n",
              "      <td>Chariot</td>\n",
              "      <td>[Verse 1]\\nStaring at a maple leaf\\nLeaning on...</td>\n",
              "    </tr>\n",
              "    <tr>\n",
              "      <th>3</th>\n",
              "      <td>Gavin DeGraw</td>\n",
              "      <td>She Sets the City on Fire</td>\n",
              "      <td>[Chorus]\\nEverybody knows she's a perfect ten\\...</td>\n",
              "    </tr>\n",
              "    <tr>\n",
              "      <th>4</th>\n",
              "      <td>Gavin DeGraw</td>\n",
              "      <td>In Love With a Girl</td>\n",
              "      <td>[Verse 1]\\nSo many people gonna say that they ...</td>\n",
              "    </tr>\n",
              "    <tr>\n",
              "      <th>5</th>\n",
              "      <td>Gavin DeGraw</td>\n",
              "      <td>Fire</td>\n",
              "      <td>[Verse 1]\\nOh if there's one thing to be taugh...</td>\n",
              "    </tr>\n",
              "    <tr>\n",
              "      <th>6</th>\n",
              "      <td>Gavin DeGraw</td>\n",
              "      <td>Sweeter</td>\n",
              "      <td>[Intro]\\nThere you go\\n\\n[Verse 1]\\nYou\\nYou d...</td>\n",
              "    </tr>\n",
              "    <tr>\n",
              "      <th>7</th>\n",
              "      <td>Gavin DeGraw</td>\n",
              "      <td>Best I Ever Had</td>\n",
              "      <td>[Verse 1]\\nMelt Antarctica, savin' Africa\\nI f...</td>\n",
              "    </tr>\n",
              "    <tr>\n",
              "      <th>8</th>\n",
              "      <td>Gavin DeGraw</td>\n",
              "      <td>You Got Me</td>\n",
              "      <td>[Verse 1]\\nWhen the fear takes you down\\nWhen ...</td>\n",
              "    </tr>\n",
              "    <tr>\n",
              "      <th>9</th>\n",
              "      <td>Gavin DeGraw</td>\n",
              "      <td>Making Love With The Radio On</td>\n",
              "      <td>[Verse 1]\\nI tried giving up\\nWalked through q...</td>\n",
              "    </tr>\n",
              "    <tr>\n",
              "      <th>10</th>\n",
              "      <td>Gavin DeGraw</td>\n",
              "      <td>Soldier</td>\n",
              "      <td>[Intro]\\nLa da da da da\\nLa da da da da\\nLa da...</td>\n",
              "    </tr>\n",
              "    <tr>\n",
              "      <th>11</th>\n",
              "      <td>Gavin DeGraw</td>\n",
              "      <td>Something Worth Saving</td>\n",
              "      <td>[Verse 1]\\nSometimes\\nWhen I lie awake at nigh...</td>\n",
              "    </tr>\n",
              "    <tr>\n",
              "      <th>12</th>\n",
              "      <td>Gavin DeGraw</td>\n",
              "      <td>More Than Anyone</td>\n",
              "      <td>[Verse 1]\\nYou need a friend, I'll be around\\n...</td>\n",
              "    </tr>\n",
              "    <tr>\n",
              "      <th>13</th>\n",
              "      <td>Gavin DeGraw</td>\n",
              "      <td>Follow Through</td>\n",
              "      <td>[Verse 1]\\nOh, this is the start of something ...</td>\n",
              "    </tr>\n",
              "    <tr>\n",
              "      <th>14</th>\n",
              "      <td>Gavin DeGraw</td>\n",
              "      <td>We Belong Together</td>\n",
              "      <td>[Chorus]\\nWe belong together\\nLike the open se...</td>\n",
              "    </tr>\n",
              "    <tr>\n",
              "      <th>15</th>\n",
              "      <td>Gavin DeGraw</td>\n",
              "      <td>Kite Like Girl</td>\n",
              "      <td>[Verse 1]\\nSome girls want bright diamonds\\nSo...</td>\n",
              "    </tr>\n",
              "    <tr>\n",
              "      <th>16</th>\n",
              "      <td>Gavin DeGraw</td>\n",
              "      <td>Belief</td>\n",
              "      <td>[Verse 1]\\nBelief makes things real\\nMakes thi...</td>\n",
              "    </tr>\n",
              "    <tr>\n",
              "      <th>17</th>\n",
              "      <td>Gavin DeGraw</td>\n",
              "      <td>Harder to Believe</td>\n",
              "      <td>[Verse 1]\\nBack of your house, back of your ne...</td>\n",
              "    </tr>\n",
              "    <tr>\n",
              "      <th>18</th>\n",
              "      <td>Gavin DeGraw</td>\n",
              "      <td>Say I Am</td>\n",
              "      <td>[Verse 1]\\nOne way, one way to the center of y...</td>\n",
              "    </tr>\n",
              "    <tr>\n",
              "      <th>19</th>\n",
              "      <td>Gavin DeGraw</td>\n",
              "      <td>Finest Hour</td>\n",
              "      <td>[Verse 1]\\nGot a text from you\\nIs it really t...</td>\n",
              "    </tr>\n",
              "    <tr>\n",
              "      <th>20</th>\n",
              "      <td>Gavin DeGraw</td>\n",
              "      <td>Annalee</td>\n",
              "      <td>You fire it up\\nDancing around\\nKnocking back\\...</td>\n",
              "    </tr>\n",
              "    <tr>\n",
              "      <th>21</th>\n",
              "      <td>Gavin DeGraw</td>\n",
              "      <td>You Make My Heart Sing Louder</td>\n",
              "      <td>[Verse 1]\\nI can hear it coming, feel it insid...</td>\n",
              "    </tr>\n",
              "    <tr>\n",
              "      <th>22</th>\n",
              "      <td>Gavin DeGraw</td>\n",
              "      <td>Make a Move</td>\n",
              "      <td>[Verse 1]\\nHey, from the first time that I ask...</td>\n",
              "    </tr>\n",
              "    <tr>\n",
              "      <th>23</th>\n",
              "      <td>Gavin DeGraw</td>\n",
              "      <td>(Nice to Meet You) Anyway</td>\n",
              "      <td>[Verse 1]\\nI don't wanna get too close\\nI don'...</td>\n",
              "    </tr>\n",
              "    <tr>\n",
              "      <th>24</th>\n",
              "      <td>Gavin DeGraw</td>\n",
              "      <td>How Lucky Can a Man Get</td>\n",
              "      <td>[Verse 1]\\nI want you to love me like the firs...</td>\n",
              "    </tr>\n",
              "    <tr>\n",
              "      <th>25</th>\n",
              "      <td>Gavin DeGraw</td>\n",
              "      <td>Just Friends</td>\n",
              "      <td>[Verse 1]\\nI saw you there last night\\nStandin...</td>\n",
              "    </tr>\n",
              "    <tr>\n",
              "      <th>26</th>\n",
              "      <td>Gavin DeGraw</td>\n",
              "      <td>Meaning</td>\n",
              "      <td>[Verse 1]\\nHail to the light that my baby's wa...</td>\n",
              "    </tr>\n",
              "    <tr>\n",
              "      <th>27</th>\n",
              "      <td>Gavin DeGraw</td>\n",
              "      <td>Everything Will Change</td>\n",
              "      <td>[Verse 1]\\nTake those boots off the shelf\\nWip...</td>\n",
              "    </tr>\n",
              "    <tr>\n",
              "      <th>28</th>\n",
              "      <td>Gavin DeGraw</td>\n",
              "      <td>Glass</td>\n",
              "      <td>Fool you made the girl fall in love\\nYou said ...</td>\n",
              "    </tr>\n",
              "    <tr>\n",
              "      <th>29</th>\n",
              "      <td>Gavin DeGraw</td>\n",
              "      <td>Free</td>\n",
              "      <td>[Verse 1]\\nI'm a poor, I'm a rich\\nI'm a mount...</td>\n",
              "    </tr>\n",
              "    <tr>\n",
              "      <th>30</th>\n",
              "      <td>Gavin DeGraw</td>\n",
              "      <td>Stealing</td>\n",
              "      <td>[Verse 1]\\nYou might really be\\nThe very best ...</td>\n",
              "    </tr>\n",
              "    <tr>\n",
              "      <th>31</th>\n",
              "      <td>Gavin DeGraw</td>\n",
              "      <td>Cheated on Me</td>\n",
              "      <td>[Verse 1]\\nI'm lovesick somewhere tonight\\nI'm...</td>\n",
              "    </tr>\n",
              "    <tr>\n",
              "      <th>32</th>\n",
              "      <td>Gavin DeGraw</td>\n",
              "      <td>Crush</td>\n",
              "      <td>[Verse 1]\\nWhen my pass came in, you dropped t...</td>\n",
              "    </tr>\n",
              "    <tr>\n",
              "      <th>33</th>\n",
              "      <td>Gavin DeGraw</td>\n",
              "      <td>I’m Gonna Try</td>\n",
              "      <td>[Chorus]\\nI'm gonna try\\nTry like a mother, I'...</td>\n",
              "    </tr>\n",
              "    <tr>\n",
              "      <th>34</th>\n",
              "      <td>Gavin DeGraw</td>\n",
              "      <td>Run Every Time</td>\n",
              "      <td>[Intro]\\nI got troubles that I can’t hide\\nSo ...</td>\n",
              "    </tr>\n",
              "    <tr>\n",
              "      <th>35</th>\n",
              "      <td>Gavin DeGraw</td>\n",
              "      <td>I Have You to Thank</td>\n",
              "      <td>[Verse 1]\\nWhenever I see you, I need more\\nAn...</td>\n",
              "    </tr>\n",
              "    <tr>\n",
              "      <th>36</th>\n",
              "      <td>Gavin DeGraw</td>\n",
              "      <td>She Holds a Key</td>\n",
              "      <td>[Verse 1]\\nThis ain't the kind of affair to ma...</td>\n",
              "    </tr>\n",
              "    <tr>\n",
              "      <th>37</th>\n",
              "      <td>Gavin DeGraw</td>\n",
              "      <td>New Love</td>\n",
              "      <td>[Verse 1]\\nI thought that you were over with i...</td>\n",
              "    </tr>\n",
              "    <tr>\n",
              "      <th>38</th>\n",
              "      <td>Gavin DeGraw</td>\n",
              "      <td>Radiation</td>\n",
              "      <td>[Intro]\\nNa na na na na na na na\\nNa na na na ...</td>\n",
              "    </tr>\n",
              "    <tr>\n",
              "      <th>39</th>\n",
              "      <td>Gavin DeGraw</td>\n",
              "      <td>You Know Where I’m At</td>\n",
              "      <td>[Verse 1]\\nWell, before you go away\\nI'm gonna...</td>\n",
              "    </tr>\n",
              "    <tr>\n",
              "      <th>40</th>\n",
              "      <td>Gavin DeGraw</td>\n",
              "      <td>Chemical Party</td>\n",
              "      <td>[Intro]\\nHere at the party\\nEveryone's happy, ...</td>\n",
              "    </tr>\n",
              "    <tr>\n",
              "      <th>41</th>\n",
              "      <td>Gavin DeGraw</td>\n",
              "      <td>Who’s Gonna Save Us</td>\n",
              "      <td>[Verse 1]\\nI know you got a wild side that I d...</td>\n",
              "    </tr>\n",
              "    <tr>\n",
              "      <th>42</th>\n",
              "      <td>Gavin DeGraw</td>\n",
              "      <td>Change is Gonna Come</td>\n",
              "      <td>I was born by the river, in a little tent\\nOh,...</td>\n",
              "    </tr>\n",
              "    <tr>\n",
              "      <th>43</th>\n",
              "      <td>Gavin DeGraw</td>\n",
              "      <td>Over-Rated</td>\n",
              "      <td>[Verse 1]\\nTake my home\\nTake everything I own...</td>\n",
              "    </tr>\n",
              "    <tr>\n",
              "      <th>44</th>\n",
              "      <td>Gavin DeGraw</td>\n",
              "      <td>Candy</td>\n",
              "      <td>[Verse 1]\\nRemember the day you came to me and...</td>\n",
              "    </tr>\n",
              "    <tr>\n",
              "      <th>45</th>\n",
              "      <td>Gavin DeGraw</td>\n",
              "      <td>Spell It Out</td>\n",
              "      <td>[Verse 1]\\nWith my eyes wide open\\nAnd with wo...</td>\n",
              "    </tr>\n",
              "    <tr>\n",
              "      <th>46</th>\n",
              "      <td>Gavin DeGraw</td>\n",
              "      <td>Different for Girls</td>\n",
              "      <td>[Verse 1]\\nOh you just don't know, what you do...</td>\n",
              "    </tr>\n",
              "    <tr>\n",
              "      <th>47</th>\n",
              "      <td>Gavin DeGraw</td>\n",
              "      <td>Dreams</td>\n",
              "      <td>Spending all my money on phone cards\\nWaiting ...</td>\n",
              "    </tr>\n",
              "    <tr>\n",
              "      <th>48</th>\n",
              "      <td>Gavin DeGraw</td>\n",
              "      <td>Dancing Shoes</td>\n",
              "      <td>It's so nice to see you\\nCan we sit and talk f...</td>\n",
              "    </tr>\n",
              "    <tr>\n",
              "      <th>49</th>\n",
              "      <td>Gavin DeGraw</td>\n",
              "      <td>We Are The Champions</td>\n",
              "      <td>[Verse 1]\\nI've paid my dues\\nTime after time\\...</td>\n",
              "    </tr>\n",
              "  </tbody>\n",
              "</table>\n",
              "</div>"
            ],
            "text/plain": [
              "          artist  ...                                              lyric\n",
              "0   Gavin DeGraw  ...  [Verse 1]\\nI don't need to be anything other\\n...\n",
              "1   Gavin DeGraw  ...  [Verse 1]\\nDreams: that's where I have to go\\n...\n",
              "2   Gavin DeGraw  ...  [Verse 1]\\nStaring at a maple leaf\\nLeaning on...\n",
              "3   Gavin DeGraw  ...  [Chorus]\\nEverybody knows she's a perfect ten\\...\n",
              "4   Gavin DeGraw  ...  [Verse 1]\\nSo many people gonna say that they ...\n",
              "5   Gavin DeGraw  ...  [Verse 1]\\nOh if there's one thing to be taugh...\n",
              "6   Gavin DeGraw  ...  [Intro]\\nThere you go\\n\\n[Verse 1]\\nYou\\nYou d...\n",
              "7   Gavin DeGraw  ...  [Verse 1]\\nMelt Antarctica, savin' Africa\\nI f...\n",
              "8   Gavin DeGraw  ...  [Verse 1]\\nWhen the fear takes you down\\nWhen ...\n",
              "9   Gavin DeGraw  ...  [Verse 1]\\nI tried giving up\\nWalked through q...\n",
              "10  Gavin DeGraw  ...  [Intro]\\nLa da da da da\\nLa da da da da\\nLa da...\n",
              "11  Gavin DeGraw  ...  [Verse 1]\\nSometimes\\nWhen I lie awake at nigh...\n",
              "12  Gavin DeGraw  ...  [Verse 1]\\nYou need a friend, I'll be around\\n...\n",
              "13  Gavin DeGraw  ...  [Verse 1]\\nOh, this is the start of something ...\n",
              "14  Gavin DeGraw  ...  [Chorus]\\nWe belong together\\nLike the open se...\n",
              "15  Gavin DeGraw  ...  [Verse 1]\\nSome girls want bright diamonds\\nSo...\n",
              "16  Gavin DeGraw  ...  [Verse 1]\\nBelief makes things real\\nMakes thi...\n",
              "17  Gavin DeGraw  ...  [Verse 1]\\nBack of your house, back of your ne...\n",
              "18  Gavin DeGraw  ...  [Verse 1]\\nOne way, one way to the center of y...\n",
              "19  Gavin DeGraw  ...  [Verse 1]\\nGot a text from you\\nIs it really t...\n",
              "20  Gavin DeGraw  ...  You fire it up\\nDancing around\\nKnocking back\\...\n",
              "21  Gavin DeGraw  ...  [Verse 1]\\nI can hear it coming, feel it insid...\n",
              "22  Gavin DeGraw  ...  [Verse 1]\\nHey, from the first time that I ask...\n",
              "23  Gavin DeGraw  ...  [Verse 1]\\nI don't wanna get too close\\nI don'...\n",
              "24  Gavin DeGraw  ...  [Verse 1]\\nI want you to love me like the firs...\n",
              "25  Gavin DeGraw  ...  [Verse 1]\\nI saw you there last night\\nStandin...\n",
              "26  Gavin DeGraw  ...  [Verse 1]\\nHail to the light that my baby's wa...\n",
              "27  Gavin DeGraw  ...  [Verse 1]\\nTake those boots off the shelf\\nWip...\n",
              "28  Gavin DeGraw  ...  Fool you made the girl fall in love\\nYou said ...\n",
              "29  Gavin DeGraw  ...  [Verse 1]\\nI'm a poor, I'm a rich\\nI'm a mount...\n",
              "30  Gavin DeGraw  ...  [Verse 1]\\nYou might really be\\nThe very best ...\n",
              "31  Gavin DeGraw  ...  [Verse 1]\\nI'm lovesick somewhere tonight\\nI'm...\n",
              "32  Gavin DeGraw  ...  [Verse 1]\\nWhen my pass came in, you dropped t...\n",
              "33  Gavin DeGraw  ...  [Chorus]\\nI'm gonna try\\nTry like a mother, I'...\n",
              "34  Gavin DeGraw  ...  [Intro]\\nI got troubles that I can’t hide\\nSo ...\n",
              "35  Gavin DeGraw  ...  [Verse 1]\\nWhenever I see you, I need more\\nAn...\n",
              "36  Gavin DeGraw  ...  [Verse 1]\\nThis ain't the kind of affair to ma...\n",
              "37  Gavin DeGraw  ...  [Verse 1]\\nI thought that you were over with i...\n",
              "38  Gavin DeGraw  ...  [Intro]\\nNa na na na na na na na\\nNa na na na ...\n",
              "39  Gavin DeGraw  ...  [Verse 1]\\nWell, before you go away\\nI'm gonna...\n",
              "40  Gavin DeGraw  ...  [Intro]\\nHere at the party\\nEveryone's happy, ...\n",
              "41  Gavin DeGraw  ...  [Verse 1]\\nI know you got a wild side that I d...\n",
              "42  Gavin DeGraw  ...  I was born by the river, in a little tent\\nOh,...\n",
              "43  Gavin DeGraw  ...  [Verse 1]\\nTake my home\\nTake everything I own...\n",
              "44  Gavin DeGraw  ...  [Verse 1]\\nRemember the day you came to me and...\n",
              "45  Gavin DeGraw  ...  [Verse 1]\\nWith my eyes wide open\\nAnd with wo...\n",
              "46  Gavin DeGraw  ...  [Verse 1]\\nOh you just don't know, what you do...\n",
              "47  Gavin DeGraw  ...  Spending all my money on phone cards\\nWaiting ...\n",
              "48  Gavin DeGraw  ...  It's so nice to see you\\nCan we sit and talk f...\n",
              "49  Gavin DeGraw  ...  [Verse 1]\\nI've paid my dues\\nTime after time\\...\n",
              "\n",
              "[50 rows x 3 columns]"
            ]
          },
          "metadata": {
            "tags": []
          },
          "execution_count": 7
        }
      ]
    },
    {
      "cell_type": "code",
      "metadata": {
        "id": "jm5Hya-DZakI"
      },
      "source": [
        "df1 = pd.read_excel('Result_Songs.xlsx')\n",
        "df1"
      ],
      "execution_count": null,
      "outputs": []
    },
    {
      "cell_type": "code",
      "metadata": {
        "id": "LdyyPYOwjcfJ"
      },
      "source": [
        "!pip install textblob      #for installation\n",
        "\n",
        "import textblob            #to import\n",
        "from textblob import TextBlob"
      ],
      "execution_count": null,
      "outputs": []
    },
    {
      "cell_type": "code",
      "metadata": {
        "id": "YDDsIyLxkM6X"
      },
      "source": [
        "def get_lyric_sentiment(lyrics): \n",
        "\t''' \n",
        "\tFunction to return sentiment score of each song\n",
        "\t'''\n",
        "\tanalysis = TextBlob(lyrics) \n",
        "\treturn analysis.sentiment.polarity"
      ],
      "execution_count": null,
      "outputs": []
    },
    {
      "cell_type": "code",
      "metadata": {
        "id": "lOXc2FhwHRF5"
      },
      "source": [
        "#cleaning and transforming the data using functions created on helpers script\n",
        "df = clean_lyrics(df1,'Lyrics')\n",
        "\n",
        "#df = create_decades(df)\n",
        "\n",
        "#Filter  data to use songs that have lyrics.\n",
        "df = df[df['Lyrics'].notnull()]\n",
        "\n",
        "#Save the data into a csv file\n",
        "#df.to_csv('lyrics.csv',index=False)"
      ],
      "execution_count": null,
      "outputs": []
    },
    {
      "cell_type": "code",
      "metadata": {
        "id": "lO0GCP7ibLRM"
      },
      "source": [
        "df"
      ],
      "execution_count": null,
      "outputs": []
    },
    {
      "cell_type": "code",
      "metadata": {
        "id": "-nyjcjaikdOE"
      },
      "source": [
        "#Use get_lyric_sentiment to get sentiment score for all the song lyrics\n",
        "sentiment = df.apply(lambda row: get_lyric_sentiment(row['lyric']), axis =1)\n",
        "df['Sentiment'] = sentiment\n",
        "df"
      ],
      "execution_count": null,
      "outputs": []
    },
    {
      "cell_type": "code",
      "metadata": {
        "id": "D4nRKYNsHkvb"
      },
      "source": [
        "def unique(list1): \n",
        "     # intilize a null list \n",
        "    unique_list = [] \n",
        "      \n",
        "    # traverse for all elements \n",
        "    for x in list1: \n",
        "        # check if exists in unique_list or not \n",
        "        if x not in unique_list: \n",
        "            unique_list.append(x) \n",
        "    \n",
        "    return unique_list"
      ],
      "execution_count": null,
      "outputs": []
    },
    {
      "cell_type": "code",
      "metadata": {
        "id": "_StFZOWrHm4U"
      },
      "source": [
        "#Stores unique words of each lyrics song into a new column called words \n",
        "\n",
        "#list used to store the words\n",
        "words = []\n",
        "#iterate trought each lyric and split unique words appending the result into the words list\n",
        "df = df.reset_index(drop=True)\n",
        "for word in df['Lyrics'].tolist():\n",
        "    words.append(unique(lyrics_to_words(word).split()))\n",
        "\n",
        "#create the new column with the information of words lists \n",
        "df['words'] = words\n",
        "df"
      ],
      "execution_count": null,
      "outputs": []
    },
    {
      "cell_type": "code",
      "metadata": {
        "id": "MQnpELErdsz7"
      },
      "source": [
        "#Sentiment Analysis using VADER Sentiment Intensinty Model\n",
        "\n",
        "#Create lists to store the different scores for each word\n",
        "negative = []\n",
        "neutral = []\n",
        "positive = []\n",
        "compound = []\n",
        "\n",
        "#Initialize the model\n",
        "sid = SentimentIntensityAnalyzer()\n",
        "\n",
        "#Iterate for each row of lyrics and append the scores\n",
        "for i in df.index:\n",
        "    scores = sid.polarity_scores(df['Lyrics'].iloc[i])\n",
        "    negative.append(scores['neg'])\n",
        "    neutral.append(scores['neu'])\n",
        "    positive.append(scores['pos'])\n",
        "    compound.append(scores['compound'])\n",
        "\n",
        "#Create 4 columns to the main data frame  for each score \n",
        "df['negative'] = negative\n",
        "df['neutral'] = neutral\n",
        "df['positive'] = positive\n",
        "df['compound'] = compound"
      ],
      "execution_count": null,
      "outputs": []
    },
    {
      "cell_type": "code",
      "metadata": {
        "colab": {
          "base_uri": "https://localhost:8080/",
          "height": 34
        },
        "id": "rGsA9QT3kqW4",
        "outputId": "dd850ed8-5b23-48ae-8677-8922a7ecbccf"
      },
      "source": [
        "from google.colab import files\n",
        "\n",
        "x = df.to_excel('Music_with_Lyrics.xlsx',index=True)\n",
        "files.download('Music_with_Lyrics.xlsx')"
      ],
      "execution_count": null,
      "outputs": [
        {
          "output_type": "display_data",
          "data": {
            "application/javascript": [
              "\n",
              "    async function download(id, filename, size) {\n",
              "      if (!google.colab.kernel.accessAllowed) {\n",
              "        return;\n",
              "      }\n",
              "      const div = document.createElement('div');\n",
              "      const label = document.createElement('label');\n",
              "      label.textContent = `Downloading \"${filename}\": `;\n",
              "      div.appendChild(label);\n",
              "      const progress = document.createElement('progress');\n",
              "      progress.max = size;\n",
              "      div.appendChild(progress);\n",
              "      document.body.appendChild(div);\n",
              "\n",
              "      const buffers = [];\n",
              "      let downloaded = 0;\n",
              "\n",
              "      const channel = await google.colab.kernel.comms.open(id);\n",
              "      // Send a message to notify the kernel that we're ready.\n",
              "      channel.send({})\n",
              "\n",
              "      for await (const message of channel.messages) {\n",
              "        // Send a message to notify the kernel that we're ready.\n",
              "        channel.send({})\n",
              "        if (message.buffers) {\n",
              "          for (const buffer of message.buffers) {\n",
              "            buffers.push(buffer);\n",
              "            downloaded += buffer.byteLength;\n",
              "            progress.value = downloaded;\n",
              "          }\n",
              "        }\n",
              "      }\n",
              "      const blob = new Blob(buffers, {type: 'application/binary'});\n",
              "      const a = document.createElement('a');\n",
              "      a.href = window.URL.createObjectURL(blob);\n",
              "      a.download = filename;\n",
              "      div.appendChild(a);\n",
              "      a.click();\n",
              "      div.remove();\n",
              "    }\n",
              "  "
            ],
            "text/plain": [
              "<IPython.core.display.Javascript object>"
            ]
          },
          "metadata": {
            "tags": []
          }
        },
        {
          "output_type": "display_data",
          "data": {
            "application/javascript": [
              "download(\"download_588fe33f-8317-4c40-9611-7032298a349f\", \"Music_with_Lyrics.xlsx\", 24957410)"
            ],
            "text/plain": [
              "<IPython.core.display.Javascript object>"
            ]
          },
          "metadata": {
            "tags": []
          }
        }
      ]
    },
    {
      "cell_type": "code",
      "metadata": {
        "colab": {
          "base_uri": "https://localhost:8080/",
          "height": 657
        },
        "id": "PN2jJlqufe65",
        "outputId": "6f99d3c3-66d7-49de-a728-0918935fe505"
      },
      "source": [
        "df"
      ],
      "execution_count": null,
      "outputs": [
        {
          "output_type": "execute_result",
          "data": {
            "text/html": [
              "<div>\n",
              "<style scoped>\n",
              "    .dataframe tbody tr th:only-of-type {\n",
              "        vertical-align: middle;\n",
              "    }\n",
              "\n",
              "    .dataframe tbody tr th {\n",
              "        vertical-align: top;\n",
              "    }\n",
              "\n",
              "    .dataframe thead th {\n",
              "        text-align: right;\n",
              "    }\n",
              "</style>\n",
              "<table border=\"1\" class=\"dataframe\">\n",
              "  <thead>\n",
              "    <tr style=\"text-align: right;\">\n",
              "      <th></th>\n",
              "      <th>Song</th>\n",
              "      <th>Artist</th>\n",
              "      <th>Genre</th>\n",
              "      <th>Lyrics</th>\n",
              "      <th>words</th>\n",
              "      <th>negative</th>\n",
              "      <th>neutral</th>\n",
              "      <th>positive</th>\n",
              "      <th>compound</th>\n",
              "    </tr>\n",
              "  </thead>\n",
              "  <tbody>\n",
              "    <tr>\n",
              "      <th>0</th>\n",
              "      <td>No Hands [feat. Roscoe Dash and Wale]</td>\n",
              "      <td>Waka Flocka Flame</td>\n",
              "      <td>pop rap</td>\n",
              "      <td>roscoe dash girl the way you're movin' got me ...</td>\n",
              "      <td>[roscoe, dash, girl, way, movin, got, trance, ...</td>\n",
              "      <td>0.133</td>\n",
              "      <td>0.794</td>\n",
              "      <td>0.073</td>\n",
              "      <td>-0.9907</td>\n",
              "    </tr>\n",
              "    <tr>\n",
              "      <th>1</th>\n",
              "      <td>Crank That (Soulja Boy)</td>\n",
              "      <td>Soulja Boy</td>\n",
              "      <td>pop rap</td>\n",
              "      <td>yuuuuuuu soulja boy tell 'em ayy i got this ne...</td>\n",
              "      <td>[yuuuuuuu, soulja, boy, tell, em, ayy, got, ne...</td>\n",
              "      <td>0.033</td>\n",
              "      <td>0.938</td>\n",
              "      <td>0.029</td>\n",
              "      <td>-0.4272</td>\n",
              "    </tr>\n",
              "    <tr>\n",
              "      <th>2</th>\n",
              "      <td>Grind With Me</td>\n",
              "      <td>Pretty Ricky</td>\n",
              "      <td>pop rap</td>\n",
              "      <td>baby grind on me relax your mind take your tim...</td>\n",
              "      <td>[baby, grind, relax, mind, take, time, let, ge...</td>\n",
              "      <td>0.053</td>\n",
              "      <td>0.834</td>\n",
              "      <td>0.113</td>\n",
              "      <td>0.9801</td>\n",
              "    </tr>\n",
              "    <tr>\n",
              "      <th>3</th>\n",
              "      <td>Whatever You Like</td>\n",
              "      <td>T.I.</td>\n",
              "      <td>pop rap</td>\n",
              "      <td>aye jim you know the ol' sugar daddies they be...</td>\n",
              "      <td>[aye, jim, know, ol, sugar, daddy, trickin, te...</td>\n",
              "      <td>0.017</td>\n",
              "      <td>0.763</td>\n",
              "      <td>0.219</td>\n",
              "      <td>0.9987</td>\n",
              "    </tr>\n",
              "    <tr>\n",
              "      <th>4</th>\n",
              "      <td>Move (If You Wanna)</td>\n",
              "      <td>MiMS</td>\n",
              "      <td>pop rap</td>\n",
              "      <td>let's get it ha ha i know you like wonderin ri...</td>\n",
              "      <td>[let, get, ha, know, like, wonderin, right, he...</td>\n",
              "      <td>0.058</td>\n",
              "      <td>0.870</td>\n",
              "      <td>0.072</td>\n",
              "      <td>0.6699</td>\n",
              "    </tr>\n",
              "    <tr>\n",
              "      <th>...</th>\n",
              "      <td>...</td>\n",
              "      <td>...</td>\n",
              "      <td>...</td>\n",
              "      <td>...</td>\n",
              "      <td>...</td>\n",
              "      <td>...</td>\n",
              "      <td>...</td>\n",
              "      <td>...</td>\n",
              "      <td>...</td>\n",
              "    </tr>\n",
              "    <tr>\n",
              "      <th>11321</th>\n",
              "      <td>Lux Courageous</td>\n",
              "      <td>deep pop emo</td>\n",
              "      <td>NaN</td>\n",
              "      <td>she can't be staring i've got the warning bell...</td>\n",
              "      <td>[cant, staring, ive, got, warning, bell, round...</td>\n",
              "      <td>0.123</td>\n",
              "      <td>0.635</td>\n",
              "      <td>0.242</td>\n",
              "      <td>0.9800</td>\n",
              "    </tr>\n",
              "    <tr>\n",
              "      <th>11322</th>\n",
              "      <td>Panima</td>\n",
              "      <td>deep pop emo</td>\n",
              "      <td>NaN</td>\n",
              "      <td>why i write by joan didion of course i stole t...</td>\n",
              "      <td>[write, joan, didion, course, stole, title, ta...</td>\n",
              "      <td>0.060</td>\n",
              "      <td>0.886</td>\n",
              "      <td>0.054</td>\n",
              "      <td>-0.9626</td>\n",
              "    </tr>\n",
              "    <tr>\n",
              "      <th>11323</th>\n",
              "      <td>Verona Grove</td>\n",
              "      <td>deep pop emo</td>\n",
              "      <td>NaN</td>\n",
              "      <td>chapter one                                   ...</td>\n",
              "      <td>[chapter, one, grief, oblivion, mademoiselle, ...</td>\n",
              "      <td>0.113</td>\n",
              "      <td>0.776</td>\n",
              "      <td>0.111</td>\n",
              "      <td>-0.9252</td>\n",
              "    </tr>\n",
              "    <tr>\n",
              "      <th>11324</th>\n",
              "      <td>Seconds To Go</td>\n",
              "      <td>deep pop emo</td>\n",
              "      <td>NaN</td>\n",
              "      <td>verse wrekonize i swear this world has lost it...</td>\n",
              "      <td>[verse, wrekonize, swear, world, lost, motherf...</td>\n",
              "      <td>0.172</td>\n",
              "      <td>0.689</td>\n",
              "      <td>0.138</td>\n",
              "      <td>-0.9737</td>\n",
              "    </tr>\n",
              "    <tr>\n",
              "      <th>11325</th>\n",
              "      <td>Otenki</td>\n",
              "      <td>deep pop emo</td>\n",
              "      <td>NaN</td>\n",
              "      <td>se7en  haha pimpri4l on the way    se7en  ayes...</td>\n",
              "      <td>[se7en, haha, pimpri4l, way, ayese7en, bitch, ...</td>\n",
              "      <td>0.173</td>\n",
              "      <td>0.662</td>\n",
              "      <td>0.165</td>\n",
              "      <td>-0.7509</td>\n",
              "    </tr>\n",
              "  </tbody>\n",
              "</table>\n",
              "<p>11326 rows × 9 columns</p>\n",
              "</div>"
            ],
            "text/plain": [
              "                                        Song  ... compound\n",
              "0      No Hands [feat. Roscoe Dash and Wale]  ...  -0.9907\n",
              "1                    Crank That (Soulja Boy)  ...  -0.4272\n",
              "2                              Grind With Me  ...   0.9801\n",
              "3                          Whatever You Like  ...   0.9987\n",
              "4                        Move (If You Wanna)  ...   0.6699\n",
              "...                                      ...  ...      ...\n",
              "11321                         Lux Courageous  ...   0.9800\n",
              "11322                                 Panima  ...  -0.9626\n",
              "11323                           Verona Grove  ...  -0.9252\n",
              "11324                          Seconds To Go  ...  -0.9737\n",
              "11325                                 Otenki  ...  -0.7509\n",
              "\n",
              "[11326 rows x 9 columns]"
            ]
          },
          "metadata": {
            "tags": []
          },
          "execution_count": 37
        }
      ]
    },
    {
      "cell_type": "code",
      "metadata": {
        "id": "0VKLwsPRgMu9"
      },
      "source": [
        " import string\n",
        "import matplotlib as plt\n",
        "\n",
        "#To create the Topic Model\n",
        "import gensim\n",
        "from gensim import corpora\n",
        "from gensim.corpora.dictionary import Dictionary"
      ],
      "execution_count": null,
      "outputs": []
    },
    {
      "cell_type": "code",
      "metadata": {
        "id": "DKjlGYsXgJDU"
      },
      "source": [
        "words = df['words'].tolist()\n",
        "dictionary = corpora.Dictionary(words)\n",
        "corpus = [dictionary.doc2bow(text) for text in words]\n",
        "lda_model = gensim.models.ldamodel.LdaModel(corpus=corpus,\n",
        "                                           id2word=dictionary,\n",
        "                                           num_topics=20, \n",
        "                                           random_state=100,\n",
        "                                           update_every=1,\n",
        "                                           chunksize=100,\n",
        "                                           passes=10,\n",
        "                                           alpha='auto',\n",
        "                                           per_word_topics=True)"
      ],
      "execution_count": null,
      "outputs": []
    },
    {
      "cell_type": "code",
      "metadata": {
        "colab": {
          "base_uri": "https://localhost:8080/"
        },
        "id": "LLPe66NmgTPE",
        "outputId": "8b0f44d7-ac77-4249-8ff9-f6f6d4aac979"
      },
      "source": [
        "coherence_model_lda = gensim.models.CoherenceModel(model=lda_model, texts=words, dictionary=dictionary, coherence='c_v')\n",
        "\n",
        "print(f\"Coherence Score:{coherence_model_lda.get_coherence()}\")\n",
        "print(f\"Perplexity Score:{lda_model.log_perplexity(corpus)}\")"
      ],
      "execution_count": null,
      "outputs": [
        {
          "output_type": "stream",
          "text": [
            "Coherence Score:0.4207242978511877\n",
            "Perplexity Score:-9.943726539657973\n"
          ],
          "name": "stdout"
        }
      ]
    },
    {
      "cell_type": "code",
      "metadata": {
        "id": "KkTw-Fs2gbl4"
      },
      "source": [
        "def compute_coherence_values(dictionary, corpus, texts, limit, start=2, step=3):\n",
        "    \"\"\"\n",
        "    Compute c_v coherence for various number of topics\n",
        "\n",
        "    Parameters:\n",
        "    ----------\n",
        "    dictionary : Gensim dictionary\n",
        "    corpus : Gensim corpus\n",
        "    texts : List of input texts\n",
        "    limit : Max num of topics\n",
        "\n",
        "    Returns:\n",
        "    -------\n",
        "    model_list : List of LDA topic models\n",
        "    coherence_values : Coherence values corresponding to the LDA model with respective number of topics\n",
        "    \"\"\"\n",
        "    coherence_values = []\n",
        "    model_list = []\n",
        "    for num_topics in range(start, limit, step):\n",
        "        model = gensim.models.ldamodel.LdaModel(corpus=corpus, num_topics=num_topics, id2word=dictionary)\n",
        "        model_list.append(model)\n",
        "        coherencemodel = gensim.models.CoherenceModel(model=model, texts=texts, dictionary=dictionary, coherence='c_v')\n",
        "        coherence_values.append(coherencemodel.get_coherence())\n",
        "\n",
        "    return model_list, coherence_values"
      ],
      "execution_count": null,
      "outputs": []
    },
    {
      "cell_type": "code",
      "metadata": {
        "colab": {
          "base_uri": "https://localhost:8080/"
        },
        "id": "g3j0Rg22gd4o",
        "outputId": "76d5639e-7da5-4536-e063-11a42042ce3b"
      },
      "source": [
        "model_list, coherence_values = compute_coherence_values(dictionary=dictionary, corpus=corpus, texts=words, start=10, limit=100, step=5)"
      ],
      "execution_count": null,
      "outputs": [
        {
          "output_type": "stream",
          "text": [
            "/usr/local/lib/python3.6/dist-packages/gensim/models/ldamodel.py:1023: RuntimeWarning: divide by zero encountered in log\n",
            "  diff = np.log(self.expElogbeta)\n"
          ],
          "name": "stderr"
        }
      ]
    },
    {
      "cell_type": "code",
      "metadata": {
        "id": "w0I7DXEUlfhN"
      },
      "source": [
        "import matplotlib.pyplot as plt "
      ],
      "execution_count": null,
      "outputs": []
    },
    {
      "cell_type": "code",
      "metadata": {
        "colab": {
          "base_uri": "https://localhost:8080/",
          "height": 670
        },
        "id": "xIlxIQpWghAa",
        "outputId": "e28266b6-a269-4c35-e78f-96459857d2f4"
      },
      "source": [
        "limit=100; start=10; step=5\n",
        "x = range(start, limit, step)\n",
        "plt.plot(x, coherence_values)\n",
        "plt.xlabel(\"Num Topics\")\n",
        "plt.ylabel(\"Coherence score\")\n",
        "plt.legend((\"coherence_values\"), loc='best')\n",
        "plt.show()\n",
        "\n",
        "for m, cv in zip(x, coherence_values):\n",
        "    print(\"Num Topics =\", m, \" has Coherence Value of\", round(cv, 4))"
      ],
      "execution_count": null,
      "outputs": [
        {
          "output_type": "display_data",
          "data": {
            "image/png": "[encoded data removed]",
            "text/plain": [
              "<Figure size 576x396 with 1 Axes>"
            ]
          },
          "metadata": {
            "tags": []
          }
        },
        {
          "output_type": "stream",
          "text": [
            "Num Topics = 10  has Coherence Value of 0.5683\n",
            "Num Topics = 15  has Coherence Value of 0.5635\n",
            "Num Topics = 20  has Coherence Value of 0.5731\n",
            "Num Topics = 25  has Coherence Value of 0.5251\n",
            "Num Topics = 30  has Coherence Value of 0.4914\n",
            "Num Topics = 35  has Coherence Value of 0.5447\n",
            "Num Topics = 40  has Coherence Value of 0.5503\n",
            "Num Topics = 45  has Coherence Value of 0.5259\n",
            "Num Topics = 50  has Coherence Value of 0.5565\n",
            "Num Topics = 55  has Coherence Value of 0.5691\n",
            "Num Topics = 60  has Coherence Value of 0.5504\n",
            "Num Topics = 65  has Coherence Value of 0.595\n",
            "Num Topics = 70  has Coherence Value of 0.5455\n",
            "Num Topics = 75  has Coherence Value of 0.5633\n",
            "Num Topics = 80  has Coherence Value of 0.571\n",
            "Num Topics = 85  has Coherence Value of 0.5726\n",
            "Num Topics = 90  has Coherence Value of 0.5638\n",
            "Num Topics = 95  has Coherence Value of 0.5637\n"
          ],
          "name": "stdout"
        }
      ]
    }
  ]
}