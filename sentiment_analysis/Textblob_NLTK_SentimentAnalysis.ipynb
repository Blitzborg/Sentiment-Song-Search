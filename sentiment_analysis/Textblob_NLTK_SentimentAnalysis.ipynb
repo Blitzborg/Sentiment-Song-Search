{
  "nbformat": 4,
  "nbformat_minor": 0,
  "metadata": {
    "colab": {
      "name": "Textblob_NLTK_SentimentAnalysis.ipynb",
      "provenance": [],
      "collapsed_sections": []
    },
    "kernelspec": {
      "name": "python3",
      "display_name": "Python 3"
    },
    "language_info": {
      "name": "python"
    }
  },
  "cells": [
    {
      "cell_type": "code",
      "metadata": {
        "colab": {
          "base_uri": "https://localhost:8080/"
        },
        "id": "DZa03PpUOr7G",
        "outputId": "5f7c8676-69c9-4f66-a69d-cc9e40b94218"
      },
      "source": [
        "from google.colab import drive\n",
        "drive.mount('/content/drive')"
      ],
      "execution_count": null,
      "outputs": [
        {
          "output_type": "stream",
          "text": [
            "Mounted at /content/drive\n"
          ],
          "name": "stdout"
        }
      ]
    },
    {
      "cell_type": "code",
      "metadata": {
        "colab": {
          "base_uri": "https://localhost:8080/"
        },
        "id": "h-yF1Ro9P8I8",
        "outputId": "8516e002-e80c-4963-f98a-3f22545fea37"
      },
      "source": [
        "#Libraries for dataframe management\n",
        "import pandas as pd\n",
        "import string \n",
        "\n",
        "#NLTK Libraries for lyrics processing/cleaning\n",
        "import nltk\n",
        "nltk.download('stopwords')\n",
        "from nltk.corpus import stopwords  \n",
        "from nltk.tokenize import word_tokenize  \n",
        "from nltk.tokenize import RegexpTokenizer\n",
        "from nltk.stem import WordNetLemmatizer\n",
        "import re \n",
        "import os\n",
        "\n",
        "#Textblob for Sentiment Analysis\n",
        "from textblob import TextBlob\n",
        "\n",
        "#NLTK VADER Sentiment Intensity Analyser for Sentiment Anlaysis\n",
        "from nltk.sentiment.vader import SentimentIntensityAnalyzer\n",
        "\n",
        "\n",
        "#Downloads for vocabulary\n",
        "nltk.download('wordnet')\n",
        "nltk.download('stopwords')\n",
        "nltk.download('punkt')\n",
        "nltk.download('vader_lexicon')\n",
        "\n",
        "lemmatizer = WordNetLemmatizer()\n",
        "tokenizer = RegexpTokenizer(r'\\w+')\n",
        "stop_words = set(stopwords.words('english'))\n",
        "\n",
        "#function to clean lyrics by removing redudant words. Pass in dataframe and column to clean (\"lyrics\")\n",
        "def tokenise(corpus):\n",
        "  filtered_sentence = [] \n",
        "  #corpus = corpus.lower()\n",
        "  word_tokens = tokenizer.tokenize(corpus) \n",
        "  filtered_sentence = ' '.join([w for w in word_tokens if not w in stop_words])\n",
        "  # comb = ' '.join([lemmatizer.lemmatize(w) for w in filtered_sentence]) \n",
        "  return filtered_sentence\n",
        "\n",
        "#regex to remove standard fillers like \"Verse\" \n",
        "def stripped_lyrics(df, column):\n",
        "    df = df\n",
        "    df[column] = df[column].str.lower()\n",
        "    df[column] = df[column].str.replace(r\"verse |[1|2|3]|chorus|bridge|outro\",\"\").str.replace(\"[\",\"\").str.replace(\"]\",\"\")\n",
        "    df[column] = df[column].str.lower().str.replace(r\"instrumental|intro|guitar|solo\",\"\")\n",
        "    df[column] = df[column].str.replace(\"\\n\",\" \").str.replace(r\"[^\\w\\d'\\s]+\",\"\").str.replace(\"efil ym fo flah\",\"\")\n",
        "    df[column] = df[column].str.strip()\n",
        "    df[column]\n",
        "    return df\n",
        "\n",
        "#clean processed lyrics to just unique words of each song. Pass in text to clean into unique words.\n",
        "def words_lyrics(document):\n",
        "    stop_words = set(stopwords.words('english'))\n",
        "    exclude = set(string.punctuation)\n",
        "    lemma = WordNetLemmatizer()\n",
        "    stopwordremoval = \" \".join([i for i in document.lower().split() if i not in stop_words])\n",
        "    punctuationremoval = ''.join(ch for ch in stopwordremoval if ch not in exclude)\n",
        "    normalized = \" \".join(lemma.lemmatize(word) for word in punctuationremoval.split())\n",
        "    return normalized\n",
        "\n",
        "#create list of unique items\n",
        "def unique(lists):\n",
        "    unique_list =[]\n",
        "    for x in lists:\n",
        "        if x not in unique_list:\n",
        "            unique_list.append(x)\n",
        "    return unique_list\n",
        "\n",
        "#convert list to string for processing\n",
        "def listToString(s): \n",
        "    str1 = \" \" \n",
        "    return (','.join(map(str, s)))\n",
        "\n",
        "#function to create \"year ranges\" for over time analysis\n",
        "def create_decades(df):\n",
        "    ranges = []\n",
        "    decades = []\n",
        "    df['date'].fillna(0)\n",
        "    df['date'] = df['date'].astype(\"str\")\n",
        "    for i in df.index:\n",
        "        years.append(df['date'].str.split(\"-\")[i][0])\n",
        "    df['year'] = year\n",
        "    df['year'] = df['year'].astype(\"int\")\n",
        "\n",
        "    for year in df['year']:\n",
        "        if 1930 <= year < 1940:\n",
        "            decades.append(\"1930s\")\n",
        "        if 1940 <= year < 1950:\n",
        "            decades.append(\"1940s\")\n",
        "        if 1950 <= year < 1960:\n",
        "            decades.append(\"1950s\")\n",
        "        if 1960 <= year < 1970:\n",
        "            decades.append(\"1960s\")\n",
        "        if 1970 <= year < 1980:\n",
        "            decades.append(\"1970s\")\n",
        "        if 1980 <= year < 1990:\n",
        "            decades.append(\"1980s\")\n",
        "        if 1990 <= year < 2000:\n",
        "            decades.append(\"1990s\")\n",
        "        if 2000 <= year < 2010:\n",
        "            decades.append(\"2000s\")\n",
        "        if 2010 <= year :\n",
        "            decades.append(\"2010s\")\n",
        "    df['decade'] = decades\n",
        "    df = df[['artist','title','album','decade','year','date','lyric']]\n",
        "    return df\n"
      ],
      "execution_count": null,
      "outputs": [
        {
          "output_type": "stream",
          "text": [
            "[nltk_data] Downloading package stopwords to /root/nltk_data...\n",
            "[nltk_data]   Unzipping corpora/stopwords.zip.\n",
            "[nltk_data] Downloading package wordnet to /root/nltk_data...\n"
          ],
          "name": "stdout"
        },
        {
          "output_type": "stream",
          "text": [
            "/usr/local/lib/python3.7/dist-packages/nltk/twitter/__init__.py:20: UserWarning: The twython library has not been installed. Some functionality from the twitter package will not be available.\n",
            "  warnings.warn(\"The twython library has not been installed. \"\n"
          ],
          "name": "stderr"
        },
        {
          "output_type": "stream",
          "text": [
            "[nltk_data]   Unzipping corpora/wordnet.zip.\n",
            "[nltk_data] Downloading package stopwords to /root/nltk_data...\n",
            "[nltk_data]   Package stopwords is already up-to-date!\n",
            "[nltk_data] Downloading package punkt to /root/nltk_data...\n",
            "[nltk_data]   Unzipping tokenizers/punkt.zip.\n",
            "[nltk_data] Downloading package vader_lexicon to /root/nltk_data...\n"
          ],
          "name": "stdout"
        }
      ]
    },
    {
      "cell_type": "code",
      "metadata": {
        "id": "j-liVz0WPPxL"
      },
      "source": [
        "import string\n",
        "\n",
        "#to plot the graphs\n",
        "from wordcloud import WordCloud\n",
        "import matplotlib.pyplot as plt\n",
        "\n",
        "#import functions from functions_def.py \n",
        "# from ipynb.fs.full.functions_def import *\n",
        "\n",
        "#library used to count the frequency of words\n",
        "from sklearn.feature_extraction.text import CountVectorizer\n",
        "\n",
        "#read lyrics file into dataframe for processing.\n",
        "df = pd.read_csv(\"/content/drive/MyDrive/Colab Notebooks/Song_data_prep (1).csv\")"
      ],
      "execution_count": null,
      "outputs": []
    },
    {
      "cell_type": "code",
      "metadata": {
        "id": "rR9f3b_Dl0IQ",
        "colab": {
          "base_uri": "https://localhost:8080/"
        },
        "outputId": "c963b5b9-2c81-4e48-9ae3-e01e1fcc7472"
      },
      "source": [
        "#correction of 2 mistyped labels\n",
        "df = df[0:10001]\n",
        "df['sentiment'][4211] = \"neutral\"\n",
        "df['sentiment'][4212] = \"neutral\"\n",
        "x = list(df['lyrics_processed'])\n",
        "y = list(df['sentiment'])\n",
        "y[4211] = y[4210]\n",
        "y[4212] = y[4210]"
      ],
      "execution_count": null,
      "outputs": [
        {
          "output_type": "stream",
          "text": [
            "/usr/local/lib/python3.7/dist-packages/ipykernel_launcher.py:4: SettingWithCopyWarning: \n",
            "A value is trying to be set on a copy of a slice from a DataFrame\n",
            "\n",
            "See the caveats in the documentation: https://pandas.pydata.org/pandas-docs/stable/user_guide/indexing.html#returning-a-view-versus-a-copy\n",
            "  after removing the cwd from sys.path.\n"
          ],
          "name": "stderr"
        }
      ]
    },
    {
      "cell_type": "code",
      "metadata": {
        "id": "cbKWBlPJmVF-"
      },
      "source": [
        "x_neutral_df = []\n",
        "y_neutral_df = []\n",
        "x_positive_df = []\n",
        "y_positive_df = []\n",
        "x_negative_df = []\n",
        "y_negative_df = []\n",
        "x_test_df = []\n",
        "y_test_df = []\n",
        "for i in range(len(y)):\n",
        "  if (y[i] == 1):\n",
        "    x_neutral_df.append(df.lyrics_processed[i])\n",
        "    y_neutral_df.append(y[i])\n",
        "  elif y[i] == 2:\n",
        "    x_positive_df.append(df.lyrics_processed[i])\n",
        "    y_positive_df.append(y[i])\n",
        "  elif y[i] == 3:\n",
        "    x_negative_df.append(df.lyrics_processed[i])\n",
        "    y_negative_df.append(y[i])\n",
        "  elif y[i] == 0:\n",
        "    x_test_df.append(df.lyrics_processed[i])\n",
        "    y_test_df.append(y[i])"
      ],
      "execution_count": null,
      "outputs": []
    },
    {
      "cell_type": "code",
      "metadata": {
        "id": "yxXeGTJCmoHP"
      },
      "source": [
        "x_df = x_negative_df + x_neutral_df + x_positive_df\n",
        "y_df = y_negative_df + y_neutral_df + y_positive_df"
      ],
      "execution_count": null,
      "outputs": []
    },
    {
      "cell_type": "code",
      "metadata": {
        "id": "o88zBRV9mpAn"
      },
      "source": [
        "senti = {'positive': 2,'neutral': 1,'negative':3, 'nan': 0}\n",
        "for item in range(len(y)):\n",
        "  try:\n",
        "    y[item] = senti[str(y[item])] \n",
        "  except:\n",
        "    print(item)"
      ],
      "execution_count": null,
      "outputs": []
    },
    {
      "cell_type": "code",
      "metadata": {
        "id": "17CNmV4JouYm"
      },
      "source": [
        "# x_df[0]"
      ],
      "execution_count": null,
      "outputs": []
    },
    {
      "cell_type": "code",
      "metadata": {
        "id": "b5qiEUvKpnqb"
      },
      "source": [
        "# df_final = pd.DataFrame()\n",
        "df_final = df"
      ],
      "execution_count": null,
      "outputs": []
    },
    {
      "cell_type": "code",
      "metadata": {
        "id": "7OoivpSuh5X2",
        "colab": {
          "base_uri": "https://localhost:8080/",
          "height": 633
        },
        "outputId": "a0844f91-0abc-4066-fa9d-0d01a0a88082"
      },
      "source": [
        "# For analysis of sentiment over decades in across all artists\n",
        "# created column to strip just year, and additional column to define range of time (decade)\n",
        "import pandas as pd\n",
        "df_final['date'] = pd.to_datetime(df_final['date'], errors='coerce')\n",
        "df_final['year'] = df_final['date'].dt.year\n",
        "decades = []\n",
        "for year in df['year']:\n",
        "        if 1930 <= year < 1940:\n",
        "            decades.append(\"1930s\")\n",
        "        if 1940 <= year < 1950:\n",
        "            decades.append(\"1940s\")\n",
        "        if 1950 <= year < 1960:\n",
        "            decades.append(\"1950s\")\n",
        "        if 1960 <= year < 1970:\n",
        "            decades.append(\"1960s\")\n",
        "        if 1970 <= year < 1980:\n",
        "            decades.append(\"1970s\")\n",
        "        if 1980 <= year < 1990:\n",
        "            decades.append(\"1980s\")\n",
        "        if 1990 <= year < 2000:\n",
        "            decades.append(\"1990s\")\n",
        "        if 2000 <= year < 2010:\n",
        "            decades.append(\"2000s\")\n",
        "        if 2010 <= year :\n",
        "            decades.append(\"2010s\")\n",
        "df_final[\"decade\"] = pd.Series(decades)\n",
        "\n",
        "# Further cleaning lyrics to remove all redundant words.\n",
        "\n",
        "# # Using list format (Rohan)\n",
        "# new_lyrics =[]\n",
        "# for i in range(len(x_df)):\n",
        "#     temp = tokenise(x_df[i])\n",
        "#     new_lyrics.append(temp)\n",
        "# #     print (tokens)\n",
        "# df_final['new'] = new_lyrics\n",
        "# df_final.head()\n",
        "\n",
        "# Using dataframe approach\n",
        "new_lyrics =[]\n",
        "for i in df_final.index:\n",
        "    tokens = tokenise(df_final['lyrics_processed'].iloc[i])\n",
        "    new_lyrics.append(tokens)\n",
        "    # print (tokens)\n",
        "df_final['new'] = new_lyrics\n",
        "df_final.head()"
      ],
      "execution_count": null,
      "outputs": [
        {
          "output_type": "execute_result",
          "data": {
            "text/html": [
              "<div>\n",
              "<style scoped>\n",
              "    .dataframe tbody tr th:only-of-type {\n",
              "        vertical-align: middle;\n",
              "    }\n",
              "\n",
              "    .dataframe tbody tr th {\n",
              "        vertical-align: top;\n",
              "    }\n",
              "\n",
              "    .dataframe thead th {\n",
              "        text-align: right;\n",
              "    }\n",
              "</style>\n",
              "<table border=\"1\" class=\"dataframe\">\n",
              "  <thead>\n",
              "    <tr style=\"text-align: right;\">\n",
              "      <th></th>\n",
              "      <th>Unnamed: 0</th>\n",
              "      <th>Unnamed</th>\n",
              "      <th>artist</th>\n",
              "      <th>song_name</th>\n",
              "      <th>lyrics_processed</th>\n",
              "      <th>link</th>\n",
              "      <th>date</th>\n",
              "      <th>sentiment</th>\n",
              "      <th>Description</th>\n",
              "      <th>Featured Artist</th>\n",
              "      <th>genre</th>\n",
              "      <th>lyrics</th>\n",
              "      <th>explicit_rating</th>\n",
              "      <th>Unnamed: 13</th>\n",
              "      <th>Unnamed: 14</th>\n",
              "      <th>Unnamed: 15</th>\n",
              "      <th>year</th>\n",
              "      <th>decade</th>\n",
              "      <th>new</th>\n",
              "    </tr>\n",
              "  </thead>\n",
              "  <tbody>\n",
              "    <tr>\n",
              "      <th>0</th>\n",
              "      <td>0.0</td>\n",
              "      <td>0.0</td>\n",
              "      <td>Adele</td>\n",
              "      <td>Hello</td>\n",
              "      <td>hello it's me i was wondering if after all the...</td>\n",
              "      <td>http://www.youtube.com/watch?v=YQHsXMglC9A</td>\n",
              "      <td>2015-10-23</td>\n",
              "      <td>negative</td>\n",
              "      <td>In this digital and single-driven age, it’s ve...</td>\n",
              "      <td>NaN</td>\n",
              "      <td>Pop</td>\n",
              "      <td>[Verse 1]\\nHello, it's me\\nI was wondering if ...</td>\n",
              "      <td>0.0</td>\n",
              "      <td>NaN</td>\n",
              "      <td>NaN</td>\n",
              "      <td>NaN</td>\n",
              "      <td>2015.0</td>\n",
              "      <td>2010s</td>\n",
              "      <td>hello wondering years like meet go everything ...</td>\n",
              "    </tr>\n",
              "    <tr>\n",
              "      <th>1</th>\n",
              "      <td>1.0</td>\n",
              "      <td>1.0</td>\n",
              "      <td>Adele</td>\n",
              "      <td>Someone Like You</td>\n",
              "      <td>i heard that you're settled down that you foun...</td>\n",
              "      <td>http://www.youtube.com/watch?v=hLQl3WQQoQ0</td>\n",
              "      <td>2011-01-24</td>\n",
              "      <td>negative</td>\n",
              "      <td>In this digital and single-driven age, it’s ve...</td>\n",
              "      <td>NaN</td>\n",
              "      <td>Pop</td>\n",
              "      <td>[Verse 1]\\nI heard that you're settled down\\nT...</td>\n",
              "      <td>0.0</td>\n",
              "      <td>NaN</td>\n",
              "      <td>NaN</td>\n",
              "      <td>NaN</td>\n",
              "      <td>2011.0</td>\n",
              "      <td>2010s</td>\n",
              "      <td>heard settled found girl married heard dreams ...</td>\n",
              "    </tr>\n",
              "    <tr>\n",
              "      <th>2</th>\n",
              "      <td>2.0</td>\n",
              "      <td>2.0</td>\n",
              "      <td>Adele</td>\n",
              "      <td>When We Were Young</td>\n",
              "      <td>everybody loves the things you do from the way...</td>\n",
              "      <td>http://www.youtube.com/watch?v=WyVS2N8aK-U</td>\n",
              "      <td>2015-11-20</td>\n",
              "      <td>neutral</td>\n",
              "      <td>In this digital and single-driven age, it’s ve...</td>\n",
              "      <td>NaN</td>\n",
              "      <td>Pop</td>\n",
              "      <td>[Verse 1]\\nEverybody loves the things you do\\n...</td>\n",
              "      <td>0.0</td>\n",
              "      <td>NaN</td>\n",
              "      <td>NaN</td>\n",
              "      <td>NaN</td>\n",
              "      <td>2015.0</td>\n",
              "      <td>2010s</td>\n",
              "      <td>everybody loves things way talk way move every...</td>\n",
              "    </tr>\n",
              "    <tr>\n",
              "      <th>3</th>\n",
              "      <td>3.0</td>\n",
              "      <td>3.0</td>\n",
              "      <td>Adele</td>\n",
              "      <td>All I Ask</td>\n",
              "      <td>i will leave my heart at the door i won't say ...</td>\n",
              "      <td>http://www.youtube.com/watch?v=GcHVHPPWkvI</td>\n",
              "      <td>2015-11-20</td>\n",
              "      <td>negative</td>\n",
              "      <td>In this digital and single-driven age, it’s ve...</td>\n",
              "      <td>NaN</td>\n",
              "      <td>Pop</td>\n",
              "      <td>[Verse 1]\\nI will leave my heart at the door\\n...</td>\n",
              "      <td>0.0</td>\n",
              "      <td>NaN</td>\n",
              "      <td>NaN</td>\n",
              "      <td>NaN</td>\n",
              "      <td>2015.0</td>\n",
              "      <td>2010s</td>\n",
              "      <td>leave heart door say word said know play prete...</td>\n",
              "    </tr>\n",
              "    <tr>\n",
              "      <th>4</th>\n",
              "      <td>4.0</td>\n",
              "      <td>4.0</td>\n",
              "      <td>Adele</td>\n",
              "      <td>Rolling in the Deep</td>\n",
              "      <td>there's a fire starting in my heart reaching a...</td>\n",
              "      <td>http://www.youtube.com/watch?v=rYEDA3JcQqw</td>\n",
              "      <td>2010-11-29</td>\n",
              "      <td>negative</td>\n",
              "      <td>In this digital and single-driven age, it’s ve...</td>\n",
              "      <td>NaN</td>\n",
              "      <td>Pop</td>\n",
              "      <td>[Verse 1]\\nThere's a fire starting in my heart...</td>\n",
              "      <td>1.0</td>\n",
              "      <td>NaN</td>\n",
              "      <td>NaN</td>\n",
              "      <td>NaN</td>\n",
              "      <td>2010.0</td>\n",
              "      <td>2010s</td>\n",
              "      <td>fire starting heart reaching fever pitch bring...</td>\n",
              "    </tr>\n",
              "  </tbody>\n",
              "</table>\n",
              "</div>"
            ],
            "text/plain": [
              "   Unnamed: 0  ...                                                new\n",
              "0         0.0  ...  hello wondering years like meet go everything ...\n",
              "1         1.0  ...  heard settled found girl married heard dreams ...\n",
              "2         2.0  ...  everybody loves things way talk way move every...\n",
              "3         3.0  ...  leave heart door say word said know play prete...\n",
              "4         4.0  ...  fire starting heart reaching fever pitch bring...\n",
              "\n",
              "[5 rows x 19 columns]"
            ]
          },
          "metadata": {
            "tags": []
          },
          "execution_count": 11
        }
      ]
    },
    {
      "cell_type": "code",
      "metadata": {
        "colab": {
          "base_uri": "https://localhost:8080/",
          "height": 633
        },
        "id": "QddktJ2F1yN3",
        "outputId": "bbb5f5ef-5b2c-486d-de97-85d7d8590b59"
      },
      "source": [
        "df_final.head()"
      ],
      "execution_count": null,
      "outputs": [
        {
          "output_type": "execute_result",
          "data": {
            "text/html": [
              "<div>\n",
              "<style scoped>\n",
              "    .dataframe tbody tr th:only-of-type {\n",
              "        vertical-align: middle;\n",
              "    }\n",
              "\n",
              "    .dataframe tbody tr th {\n",
              "        vertical-align: top;\n",
              "    }\n",
              "\n",
              "    .dataframe thead th {\n",
              "        text-align: right;\n",
              "    }\n",
              "</style>\n",
              "<table border=\"1\" class=\"dataframe\">\n",
              "  <thead>\n",
              "    <tr style=\"text-align: right;\">\n",
              "      <th></th>\n",
              "      <th>Unnamed: 0</th>\n",
              "      <th>Unnamed</th>\n",
              "      <th>artist</th>\n",
              "      <th>song_name</th>\n",
              "      <th>lyrics_processed</th>\n",
              "      <th>link</th>\n",
              "      <th>date</th>\n",
              "      <th>sentiment</th>\n",
              "      <th>Description</th>\n",
              "      <th>Featured Artist</th>\n",
              "      <th>genre</th>\n",
              "      <th>lyrics</th>\n",
              "      <th>explicit_rating</th>\n",
              "      <th>Unnamed: 13</th>\n",
              "      <th>Unnamed: 14</th>\n",
              "      <th>Unnamed: 15</th>\n",
              "      <th>year</th>\n",
              "      <th>decade</th>\n",
              "      <th>new</th>\n",
              "    </tr>\n",
              "  </thead>\n",
              "  <tbody>\n",
              "    <tr>\n",
              "      <th>0</th>\n",
              "      <td>0.0</td>\n",
              "      <td>0.0</td>\n",
              "      <td>Adele</td>\n",
              "      <td>Hello</td>\n",
              "      <td>hello it's me i was wondering if after all the...</td>\n",
              "      <td>http://www.youtube.com/watch?v=YQHsXMglC9A</td>\n",
              "      <td>2015-10-23</td>\n",
              "      <td>negative</td>\n",
              "      <td>In this digital and single-driven age, it’s ve...</td>\n",
              "      <td>NaN</td>\n",
              "      <td>Pop</td>\n",
              "      <td>[Verse 1]\\nHello, it's me\\nI was wondering if ...</td>\n",
              "      <td>0.0</td>\n",
              "      <td>NaN</td>\n",
              "      <td>NaN</td>\n",
              "      <td>NaN</td>\n",
              "      <td>2015.0</td>\n",
              "      <td>2010s</td>\n",
              "      <td>hello wondering years like meet go everything ...</td>\n",
              "    </tr>\n",
              "    <tr>\n",
              "      <th>1</th>\n",
              "      <td>1.0</td>\n",
              "      <td>1.0</td>\n",
              "      <td>Adele</td>\n",
              "      <td>Someone Like You</td>\n",
              "      <td>i heard that you're settled down that you foun...</td>\n",
              "      <td>http://www.youtube.com/watch?v=hLQl3WQQoQ0</td>\n",
              "      <td>2011-01-24</td>\n",
              "      <td>negative</td>\n",
              "      <td>In this digital and single-driven age, it’s ve...</td>\n",
              "      <td>NaN</td>\n",
              "      <td>Pop</td>\n",
              "      <td>[Verse 1]\\nI heard that you're settled down\\nT...</td>\n",
              "      <td>0.0</td>\n",
              "      <td>NaN</td>\n",
              "      <td>NaN</td>\n",
              "      <td>NaN</td>\n",
              "      <td>2011.0</td>\n",
              "      <td>2010s</td>\n",
              "      <td>heard settled found girl married heard dreams ...</td>\n",
              "    </tr>\n",
              "    <tr>\n",
              "      <th>2</th>\n",
              "      <td>2.0</td>\n",
              "      <td>2.0</td>\n",
              "      <td>Adele</td>\n",
              "      <td>When We Were Young</td>\n",
              "      <td>everybody loves the things you do from the way...</td>\n",
              "      <td>http://www.youtube.com/watch?v=WyVS2N8aK-U</td>\n",
              "      <td>2015-11-20</td>\n",
              "      <td>neutral</td>\n",
              "      <td>In this digital and single-driven age, it’s ve...</td>\n",
              "      <td>NaN</td>\n",
              "      <td>Pop</td>\n",
              "      <td>[Verse 1]\\nEverybody loves the things you do\\n...</td>\n",
              "      <td>0.0</td>\n",
              "      <td>NaN</td>\n",
              "      <td>NaN</td>\n",
              "      <td>NaN</td>\n",
              "      <td>2015.0</td>\n",
              "      <td>2010s</td>\n",
              "      <td>everybody loves things way talk way move every...</td>\n",
              "    </tr>\n",
              "    <tr>\n",
              "      <th>3</th>\n",
              "      <td>3.0</td>\n",
              "      <td>3.0</td>\n",
              "      <td>Adele</td>\n",
              "      <td>All I Ask</td>\n",
              "      <td>i will leave my heart at the door i won't say ...</td>\n",
              "      <td>http://www.youtube.com/watch?v=GcHVHPPWkvI</td>\n",
              "      <td>2015-11-20</td>\n",
              "      <td>negative</td>\n",
              "      <td>In this digital and single-driven age, it’s ve...</td>\n",
              "      <td>NaN</td>\n",
              "      <td>Pop</td>\n",
              "      <td>[Verse 1]\\nI will leave my heart at the door\\n...</td>\n",
              "      <td>0.0</td>\n",
              "      <td>NaN</td>\n",
              "      <td>NaN</td>\n",
              "      <td>NaN</td>\n",
              "      <td>2015.0</td>\n",
              "      <td>2010s</td>\n",
              "      <td>leave heart door say word said know play prete...</td>\n",
              "    </tr>\n",
              "    <tr>\n",
              "      <th>4</th>\n",
              "      <td>4.0</td>\n",
              "      <td>4.0</td>\n",
              "      <td>Adele</td>\n",
              "      <td>Rolling in the Deep</td>\n",
              "      <td>there's a fire starting in my heart reaching a...</td>\n",
              "      <td>http://www.youtube.com/watch?v=rYEDA3JcQqw</td>\n",
              "      <td>2010-11-29</td>\n",
              "      <td>negative</td>\n",
              "      <td>In this digital and single-driven age, it’s ve...</td>\n",
              "      <td>NaN</td>\n",
              "      <td>Pop</td>\n",
              "      <td>[Verse 1]\\nThere's a fire starting in my heart...</td>\n",
              "      <td>1.0</td>\n",
              "      <td>NaN</td>\n",
              "      <td>NaN</td>\n",
              "      <td>NaN</td>\n",
              "      <td>2010.0</td>\n",
              "      <td>2010s</td>\n",
              "      <td>fire starting heart reaching fever pitch bring...</td>\n",
              "    </tr>\n",
              "  </tbody>\n",
              "</table>\n",
              "</div>"
            ],
            "text/plain": [
              "   Unnamed: 0  ...                                                new\n",
              "0         0.0  ...  hello wondering years like meet go everything ...\n",
              "1         1.0  ...  heard settled found girl married heard dreams ...\n",
              "2         2.0  ...  everybody loves things way talk way move every...\n",
              "3         3.0  ...  leave heart door say word said know play prete...\n",
              "4         4.0  ...  fire starting heart reaching fever pitch bring...\n",
              "\n",
              "[5 rows x 19 columns]"
            ]
          },
          "metadata": {
            "tags": []
          },
          "execution_count": 12
        }
      ]
    },
    {
      "cell_type": "code",
      "metadata": {
        "id": "_t_a2L6-pd4O"
      },
      "source": [
        "# # remove unwanted unnamed columns.\n",
        "del df_final[\"Unnamed\"]\n",
        "del df_final[\"Unnamed: 0\"]\n",
        "del df_final[\"Unnamed: 13\"]\n",
        "del df_final[\"Unnamed: 14\"]\n",
        "del df_final[\"Unnamed: 15\"]"
      ],
      "execution_count": null,
      "outputs": []
    },
    {
      "cell_type": "code",
      "metadata": {
        "id": "KSV44R41pi_c",
        "colab": {
          "base_uri": "https://localhost:8080/",
          "height": 613
        },
        "outputId": "7beb85f1-d7eb-4a15-e8cc-ad06e3edc886"
      },
      "source": [
        "df_final.head()\n"
      ],
      "execution_count": null,
      "outputs": [
        {
          "output_type": "execute_result",
          "data": {
            "text/html": [
              "<div>\n",
              "<style scoped>\n",
              "    .dataframe tbody tr th:only-of-type {\n",
              "        vertical-align: middle;\n",
              "    }\n",
              "\n",
              "    .dataframe tbody tr th {\n",
              "        vertical-align: top;\n",
              "    }\n",
              "\n",
              "    .dataframe thead th {\n",
              "        text-align: right;\n",
              "    }\n",
              "</style>\n",
              "<table border=\"1\" class=\"dataframe\">\n",
              "  <thead>\n",
              "    <tr style=\"text-align: right;\">\n",
              "      <th></th>\n",
              "      <th>artist</th>\n",
              "      <th>song_name</th>\n",
              "      <th>lyrics_processed</th>\n",
              "      <th>link</th>\n",
              "      <th>date</th>\n",
              "      <th>sentiment</th>\n",
              "      <th>Description</th>\n",
              "      <th>Featured Artist</th>\n",
              "      <th>genre</th>\n",
              "      <th>lyrics</th>\n",
              "      <th>explicit_rating</th>\n",
              "      <th>year</th>\n",
              "      <th>decade</th>\n",
              "      <th>new</th>\n",
              "    </tr>\n",
              "  </thead>\n",
              "  <tbody>\n",
              "    <tr>\n",
              "      <th>0</th>\n",
              "      <td>Adele</td>\n",
              "      <td>Hello</td>\n",
              "      <td>hello it's me i was wondering if after all the...</td>\n",
              "      <td>http://www.youtube.com/watch?v=YQHsXMglC9A</td>\n",
              "      <td>2015-10-23</td>\n",
              "      <td>negative</td>\n",
              "      <td>In this digital and single-driven age, it’s ve...</td>\n",
              "      <td>NaN</td>\n",
              "      <td>Pop</td>\n",
              "      <td>[Verse 1]\\nHello, it's me\\nI was wondering if ...</td>\n",
              "      <td>0.0</td>\n",
              "      <td>2015.0</td>\n",
              "      <td>2010s</td>\n",
              "      <td>hello wondering years like meet go everything ...</td>\n",
              "    </tr>\n",
              "    <tr>\n",
              "      <th>1</th>\n",
              "      <td>Adele</td>\n",
              "      <td>Someone Like You</td>\n",
              "      <td>i heard that you're settled down that you foun...</td>\n",
              "      <td>http://www.youtube.com/watch?v=hLQl3WQQoQ0</td>\n",
              "      <td>2011-01-24</td>\n",
              "      <td>negative</td>\n",
              "      <td>In this digital and single-driven age, it’s ve...</td>\n",
              "      <td>NaN</td>\n",
              "      <td>Pop</td>\n",
              "      <td>[Verse 1]\\nI heard that you're settled down\\nT...</td>\n",
              "      <td>0.0</td>\n",
              "      <td>2011.0</td>\n",
              "      <td>2010s</td>\n",
              "      <td>heard settled found girl married heard dreams ...</td>\n",
              "    </tr>\n",
              "    <tr>\n",
              "      <th>2</th>\n",
              "      <td>Adele</td>\n",
              "      <td>When We Were Young</td>\n",
              "      <td>everybody loves the things you do from the way...</td>\n",
              "      <td>http://www.youtube.com/watch?v=WyVS2N8aK-U</td>\n",
              "      <td>2015-11-20</td>\n",
              "      <td>neutral</td>\n",
              "      <td>In this digital and single-driven age, it’s ve...</td>\n",
              "      <td>NaN</td>\n",
              "      <td>Pop</td>\n",
              "      <td>[Verse 1]\\nEverybody loves the things you do\\n...</td>\n",
              "      <td>0.0</td>\n",
              "      <td>2015.0</td>\n",
              "      <td>2010s</td>\n",
              "      <td>everybody loves things way talk way move every...</td>\n",
              "    </tr>\n",
              "    <tr>\n",
              "      <th>3</th>\n",
              "      <td>Adele</td>\n",
              "      <td>All I Ask</td>\n",
              "      <td>i will leave my heart at the door i won't say ...</td>\n",
              "      <td>http://www.youtube.com/watch?v=GcHVHPPWkvI</td>\n",
              "      <td>2015-11-20</td>\n",
              "      <td>negative</td>\n",
              "      <td>In this digital and single-driven age, it’s ve...</td>\n",
              "      <td>NaN</td>\n",
              "      <td>Pop</td>\n",
              "      <td>[Verse 1]\\nI will leave my heart at the door\\n...</td>\n",
              "      <td>0.0</td>\n",
              "      <td>2015.0</td>\n",
              "      <td>2010s</td>\n",
              "      <td>leave heart door say word said know play prete...</td>\n",
              "    </tr>\n",
              "    <tr>\n",
              "      <th>4</th>\n",
              "      <td>Adele</td>\n",
              "      <td>Rolling in the Deep</td>\n",
              "      <td>there's a fire starting in my heart reaching a...</td>\n",
              "      <td>http://www.youtube.com/watch?v=rYEDA3JcQqw</td>\n",
              "      <td>2010-11-29</td>\n",
              "      <td>negative</td>\n",
              "      <td>In this digital and single-driven age, it’s ve...</td>\n",
              "      <td>NaN</td>\n",
              "      <td>Pop</td>\n",
              "      <td>[Verse 1]\\nThere's a fire starting in my heart...</td>\n",
              "      <td>1.0</td>\n",
              "      <td>2010.0</td>\n",
              "      <td>2010s</td>\n",
              "      <td>fire starting heart reaching fever pitch bring...</td>\n",
              "    </tr>\n",
              "  </tbody>\n",
              "</table>\n",
              "</div>"
            ],
            "text/plain": [
              "  artist  ...                                                new\n",
              "0  Adele  ...  hello wondering years like meet go everything ...\n",
              "1  Adele  ...  heard settled found girl married heard dreams ...\n",
              "2  Adele  ...  everybody loves things way talk way move every...\n",
              "3  Adele  ...  leave heart door say word said know play prete...\n",
              "4  Adele  ...  fire starting heart reaching fever pitch bring...\n",
              "\n",
              "[5 rows x 14 columns]"
            ]
          },
          "metadata": {
            "tags": []
          },
          "execution_count": 14
        }
      ]
    },
    {
      "cell_type": "code",
      "metadata": {
        "id": "jyL18AmFUVdj",
        "colab": {
          "base_uri": "https://localhost:8080/"
        },
        "outputId": "614e779c-4377-4d3a-b71a-98a414366d5a"
      },
      "source": [
        "#Correction of 2 mislabelled entries during manual labelling of sentiment\n",
        "df['sentiment'][4211] = \"neutral\"\n",
        "#print (df['sentiment'][4211])\n",
        "\n",
        "df['sentiment'][4212] = \"neutral\"\n",
        "#print (df['sentiment'][4212])"
      ],
      "execution_count": null,
      "outputs": [
        {
          "output_type": "stream",
          "text": [
            "/usr/local/lib/python3.7/dist-packages/ipykernel_launcher.py:2: SettingWithCopyWarning: \n",
            "A value is trying to be set on a copy of a slice from a DataFrame\n",
            "\n",
            "See the caveats in the documentation: https://pandas.pydata.org/pandas-docs/stable/user_guide/indexing.html#returning-a-view-versus-a-copy\n",
            "  \n",
            "/usr/local/lib/python3.7/dist-packages/ipykernel_launcher.py:5: SettingWithCopyWarning: \n",
            "A value is trying to be set on a copy of a slice from a DataFrame\n",
            "\n",
            "See the caveats in the documentation: https://pandas.pydata.org/pandas-docs/stable/user_guide/indexing.html#returning-a-view-versus-a-copy\n",
            "  \"\"\"\n"
          ],
          "name": "stderr"
        }
      ]
    },
    {
      "cell_type": "code",
      "metadata": {
        "id": "1UZmG32TrQOO",
        "colab": {
          "base_uri": "https://localhost:8080/",
          "height": 613
        },
        "outputId": "53e281a5-0471-4cbf-d1f1-385efde53ed8"
      },
      "source": [
        "df_final.head()"
      ],
      "execution_count": null,
      "outputs": [
        {
          "output_type": "execute_result",
          "data": {
            "text/html": [
              "<div>\n",
              "<style scoped>\n",
              "    .dataframe tbody tr th:only-of-type {\n",
              "        vertical-align: middle;\n",
              "    }\n",
              "\n",
              "    .dataframe tbody tr th {\n",
              "        vertical-align: top;\n",
              "    }\n",
              "\n",
              "    .dataframe thead th {\n",
              "        text-align: right;\n",
              "    }\n",
              "</style>\n",
              "<table border=\"1\" class=\"dataframe\">\n",
              "  <thead>\n",
              "    <tr style=\"text-align: right;\">\n",
              "      <th></th>\n",
              "      <th>artist</th>\n",
              "      <th>song_name</th>\n",
              "      <th>lyrics_processed</th>\n",
              "      <th>link</th>\n",
              "      <th>date</th>\n",
              "      <th>sentiment</th>\n",
              "      <th>Description</th>\n",
              "      <th>Featured Artist</th>\n",
              "      <th>genre</th>\n",
              "      <th>lyrics</th>\n",
              "      <th>explicit_rating</th>\n",
              "      <th>year</th>\n",
              "      <th>decade</th>\n",
              "      <th>new</th>\n",
              "    </tr>\n",
              "  </thead>\n",
              "  <tbody>\n",
              "    <tr>\n",
              "      <th>0</th>\n",
              "      <td>Adele</td>\n",
              "      <td>Hello</td>\n",
              "      <td>hello it's me i was wondering if after all the...</td>\n",
              "      <td>http://www.youtube.com/watch?v=YQHsXMglC9A</td>\n",
              "      <td>2015-10-23</td>\n",
              "      <td>negative</td>\n",
              "      <td>In this digital and single-driven age, it’s ve...</td>\n",
              "      <td>NaN</td>\n",
              "      <td>Pop</td>\n",
              "      <td>[Verse 1]\\nHello, it's me\\nI was wondering if ...</td>\n",
              "      <td>0.0</td>\n",
              "      <td>2015.0</td>\n",
              "      <td>2010s</td>\n",
              "      <td>hello wondering years like meet go everything ...</td>\n",
              "    </tr>\n",
              "    <tr>\n",
              "      <th>1</th>\n",
              "      <td>Adele</td>\n",
              "      <td>Someone Like You</td>\n",
              "      <td>i heard that you're settled down that you foun...</td>\n",
              "      <td>http://www.youtube.com/watch?v=hLQl3WQQoQ0</td>\n",
              "      <td>2011-01-24</td>\n",
              "      <td>negative</td>\n",
              "      <td>In this digital and single-driven age, it’s ve...</td>\n",
              "      <td>NaN</td>\n",
              "      <td>Pop</td>\n",
              "      <td>[Verse 1]\\nI heard that you're settled down\\nT...</td>\n",
              "      <td>0.0</td>\n",
              "      <td>2011.0</td>\n",
              "      <td>2010s</td>\n",
              "      <td>heard settled found girl married heard dreams ...</td>\n",
              "    </tr>\n",
              "    <tr>\n",
              "      <th>2</th>\n",
              "      <td>Adele</td>\n",
              "      <td>When We Were Young</td>\n",
              "      <td>everybody loves the things you do from the way...</td>\n",
              "      <td>http://www.youtube.com/watch?v=WyVS2N8aK-U</td>\n",
              "      <td>2015-11-20</td>\n",
              "      <td>neutral</td>\n",
              "      <td>In this digital and single-driven age, it’s ve...</td>\n",
              "      <td>NaN</td>\n",
              "      <td>Pop</td>\n",
              "      <td>[Verse 1]\\nEverybody loves the things you do\\n...</td>\n",
              "      <td>0.0</td>\n",
              "      <td>2015.0</td>\n",
              "      <td>2010s</td>\n",
              "      <td>everybody loves things way talk way move every...</td>\n",
              "    </tr>\n",
              "    <tr>\n",
              "      <th>3</th>\n",
              "      <td>Adele</td>\n",
              "      <td>All I Ask</td>\n",
              "      <td>i will leave my heart at the door i won't say ...</td>\n",
              "      <td>http://www.youtube.com/watch?v=GcHVHPPWkvI</td>\n",
              "      <td>2015-11-20</td>\n",
              "      <td>negative</td>\n",
              "      <td>In this digital and single-driven age, it’s ve...</td>\n",
              "      <td>NaN</td>\n",
              "      <td>Pop</td>\n",
              "      <td>[Verse 1]\\nI will leave my heart at the door\\n...</td>\n",
              "      <td>0.0</td>\n",
              "      <td>2015.0</td>\n",
              "      <td>2010s</td>\n",
              "      <td>leave heart door say word said know play prete...</td>\n",
              "    </tr>\n",
              "    <tr>\n",
              "      <th>4</th>\n",
              "      <td>Adele</td>\n",
              "      <td>Rolling in the Deep</td>\n",
              "      <td>there's a fire starting in my heart reaching a...</td>\n",
              "      <td>http://www.youtube.com/watch?v=rYEDA3JcQqw</td>\n",
              "      <td>2010-11-29</td>\n",
              "      <td>negative</td>\n",
              "      <td>In this digital and single-driven age, it’s ve...</td>\n",
              "      <td>NaN</td>\n",
              "      <td>Pop</td>\n",
              "      <td>[Verse 1]\\nThere's a fire starting in my heart...</td>\n",
              "      <td>1.0</td>\n",
              "      <td>2010.0</td>\n",
              "      <td>2010s</td>\n",
              "      <td>fire starting heart reaching fever pitch bring...</td>\n",
              "    </tr>\n",
              "  </tbody>\n",
              "</table>\n",
              "</div>"
            ],
            "text/plain": [
              "  artist  ...                                                new\n",
              "0  Adele  ...  hello wondering years like meet go everything ...\n",
              "1  Adele  ...  heard settled found girl married heard dreams ...\n",
              "2  Adele  ...  everybody loves things way talk way move every...\n",
              "3  Adele  ...  leave heart door say word said know play prete...\n",
              "4  Adele  ...  fire starting heart reaching fever pitch bring...\n",
              "\n",
              "[5 rows x 14 columns]"
            ]
          },
          "metadata": {
            "tags": []
          },
          "execution_count": 16
        }
      ]
    },
    {
      "cell_type": "code",
      "metadata": {
        "id": "X-Y3LJnv22Sg"
      },
      "source": [
        "#Function to run SA through Textblob\n",
        "def sentiment_blob(text):\n",
        "    try:\n",
        "        return TextBlob(text).sentiment\n",
        "    except:\n",
        "        return None"
      ],
      "execution_count": null,
      "outputs": []
    },
    {
      "cell_type": "code",
      "metadata": {
        "id": "JVLMbKuG2e5i"
      },
      "source": [
        "# Applying Textblob on final processed lyrics\n",
        "df_final['blob'] = df_final['new'].apply(sentiment_blob)\n",
        "\n",
        "#seperating blob list into polarity and subjectivity.\n",
        "df3 = df_final.blob.apply(pd.Series)\n",
        "df3.columns = ['polarity', 'subjectivity']\n",
        "df_final ['polarity'] = df3['polarity']\n",
        "df_final['subjectivity'] = df3['subjectivity']\n",
        "\n",
        "# Computing final score for Textblob\n",
        "# Subjectivity : 0 is very objective, 1 is very subjective\n",
        "#Polarity : [-1:1] , -1 is negative, +1 is positive, 0 is neutral (no match with training set)\n",
        "finalscore_blob = []\n",
        "for i in range(len(df_final)):\n",
        "  if df_final['polarity'][i]>0:\n",
        "    finalscore_blob.append('positive')\n",
        "  elif df_final['polarity'][i]<=0:\n",
        "    finalscore_blob.append('negative')\n",
        "  # elif df_final['polarity'][i] == 0:\n",
        "  #   finalscore_blob.append('neutral')\n",
        "\n",
        "df_final['blob_score'] = finalscore_blob\n",
        "# df_final.head(10)\n"
      ],
      "execution_count": null,
      "outputs": []
    },
    {
      "cell_type": "code",
      "metadata": {
        "id": "etNfmlWBtFrD",
        "colab": {
          "base_uri": "https://localhost:8080/",
          "height": 633
        },
        "outputId": "0ffb79fa-0d35-445b-eb6f-84fb8ca6efcb"
      },
      "source": [
        "df_final.head()"
      ],
      "execution_count": null,
      "outputs": [
        {
          "output_type": "execute_result",
          "data": {
            "text/html": [
              "<div>\n",
              "<style scoped>\n",
              "    .dataframe tbody tr th:only-of-type {\n",
              "        vertical-align: middle;\n",
              "    }\n",
              "\n",
              "    .dataframe tbody tr th {\n",
              "        vertical-align: top;\n",
              "    }\n",
              "\n",
              "    .dataframe thead th {\n",
              "        text-align: right;\n",
              "    }\n",
              "</style>\n",
              "<table border=\"1\" class=\"dataframe\">\n",
              "  <thead>\n",
              "    <tr style=\"text-align: right;\">\n",
              "      <th></th>\n",
              "      <th>artist</th>\n",
              "      <th>song_name</th>\n",
              "      <th>lyrics_processed</th>\n",
              "      <th>link</th>\n",
              "      <th>date</th>\n",
              "      <th>sentiment</th>\n",
              "      <th>Description</th>\n",
              "      <th>Featured Artist</th>\n",
              "      <th>genre</th>\n",
              "      <th>lyrics</th>\n",
              "      <th>explicit_rating</th>\n",
              "      <th>year</th>\n",
              "      <th>decade</th>\n",
              "      <th>new</th>\n",
              "      <th>blob</th>\n",
              "      <th>polarity</th>\n",
              "      <th>subjectivity</th>\n",
              "      <th>blob_score</th>\n",
              "    </tr>\n",
              "  </thead>\n",
              "  <tbody>\n",
              "    <tr>\n",
              "      <th>0</th>\n",
              "      <td>Adele</td>\n",
              "      <td>Hello</td>\n",
              "      <td>hello it's me i was wondering if after all the...</td>\n",
              "      <td>http://www.youtube.com/watch?v=YQHsXMglC9A</td>\n",
              "      <td>2015-10-23</td>\n",
              "      <td>negative</td>\n",
              "      <td>In this digital and single-driven age, it’s ve...</td>\n",
              "      <td>NaN</td>\n",
              "      <td>Pop</td>\n",
              "      <td>[Verse 1]\\nHello, it's me\\nI was wondering if ...</td>\n",
              "      <td>0.0</td>\n",
              "      <td>2015.0</td>\n",
              "      <td>2010s</td>\n",
              "      <td>hello wondering years like meet go everything ...</td>\n",
              "      <td>(-0.17681159420289855, 0.5130434782608696)</td>\n",
              "      <td>-0.176812</td>\n",
              "      <td>0.513043</td>\n",
              "      <td>negative</td>\n",
              "    </tr>\n",
              "    <tr>\n",
              "      <th>1</th>\n",
              "      <td>Adele</td>\n",
              "      <td>Someone Like You</td>\n",
              "      <td>i heard that you're settled down that you foun...</td>\n",
              "      <td>http://www.youtube.com/watch?v=hLQl3WQQoQ0</td>\n",
              "      <td>2011-01-24</td>\n",
              "      <td>negative</td>\n",
              "      <td>In this digital and single-driven age, it’s ve...</td>\n",
              "      <td>NaN</td>\n",
              "      <td>Pop</td>\n",
              "      <td>[Verse 1]\\nI heard that you're settled down\\nT...</td>\n",
              "      <td>0.0</td>\n",
              "      <td>2011.0</td>\n",
              "      <td>2010s</td>\n",
              "      <td>heard settled found girl married heard dreams ...</td>\n",
              "      <td>(0.28095238095238095, 0.4428571428571427)</td>\n",
              "      <td>0.280952</td>\n",
              "      <td>0.442857</td>\n",
              "      <td>positive</td>\n",
              "    </tr>\n",
              "    <tr>\n",
              "      <th>2</th>\n",
              "      <td>Adele</td>\n",
              "      <td>When We Were Young</td>\n",
              "      <td>everybody loves the things you do from the way...</td>\n",
              "      <td>http://www.youtube.com/watch?v=WyVS2N8aK-U</td>\n",
              "      <td>2015-11-20</td>\n",
              "      <td>neutral</td>\n",
              "      <td>In this digital and single-driven age, it’s ve...</td>\n",
              "      <td>NaN</td>\n",
              "      <td>Pop</td>\n",
              "      <td>[Verse 1]\\nEverybody loves the things you do\\n...</td>\n",
              "      <td>0.0</td>\n",
              "      <td>2015.0</td>\n",
              "      <td>2010s</td>\n",
              "      <td>everybody loves things way talk way move every...</td>\n",
              "      <td>(0.062037037037037064, 0.4178240740740741)</td>\n",
              "      <td>0.062037</td>\n",
              "      <td>0.417824</td>\n",
              "      <td>positive</td>\n",
              "    </tr>\n",
              "    <tr>\n",
              "      <th>3</th>\n",
              "      <td>Adele</td>\n",
              "      <td>All I Ask</td>\n",
              "      <td>i will leave my heart at the door i won't say ...</td>\n",
              "      <td>http://www.youtube.com/watch?v=GcHVHPPWkvI</td>\n",
              "      <td>2015-11-20</td>\n",
              "      <td>negative</td>\n",
              "      <td>In this digital and single-driven age, it’s ve...</td>\n",
              "      <td>NaN</td>\n",
              "      <td>Pop</td>\n",
              "      <td>[Verse 1]\\nI will leave my heart at the door\\n...</td>\n",
              "      <td>0.0</td>\n",
              "      <td>2015.0</td>\n",
              "      <td>2010s</td>\n",
              "      <td>leave heart door say word said know play prete...</td>\n",
              "      <td>(-0.19642857142857142, 0.5206349206349206)</td>\n",
              "      <td>-0.196429</td>\n",
              "      <td>0.520635</td>\n",
              "      <td>negative</td>\n",
              "    </tr>\n",
              "    <tr>\n",
              "      <th>4</th>\n",
              "      <td>Adele</td>\n",
              "      <td>Rolling in the Deep</td>\n",
              "      <td>there's a fire starting in my heart reaching a...</td>\n",
              "      <td>http://www.youtube.com/watch?v=rYEDA3JcQqw</td>\n",
              "      <td>2010-11-29</td>\n",
              "      <td>negative</td>\n",
              "      <td>In this digital and single-driven age, it’s ve...</td>\n",
              "      <td>NaN</td>\n",
              "      <td>Pop</td>\n",
              "      <td>[Verse 1]\\nThere's a fire starting in my heart...</td>\n",
              "      <td>1.0</td>\n",
              "      <td>2010.0</td>\n",
              "      <td>2010s</td>\n",
              "      <td>fire starting heart reaching fever pitch bring...</td>\n",
              "      <td>(0.0859375, 0.4491319444444446)</td>\n",
              "      <td>0.085938</td>\n",
              "      <td>0.449132</td>\n",
              "      <td>positive</td>\n",
              "    </tr>\n",
              "  </tbody>\n",
              "</table>\n",
              "</div>"
            ],
            "text/plain": [
              "  artist            song_name  ... subjectivity blob_score\n",
              "0  Adele                Hello  ...     0.513043   negative\n",
              "1  Adele     Someone Like You  ...     0.442857   positive\n",
              "2  Adele   When We Were Young  ...     0.417824   positive\n",
              "3  Adele            All I Ask  ...     0.520635   negative\n",
              "4  Adele  Rolling in the Deep  ...     0.449132   positive\n",
              "\n",
              "[5 rows x 18 columns]"
            ]
          },
          "metadata": {
            "tags": []
          },
          "execution_count": 19
        }
      ]
    },
    {
      "cell_type": "code",
      "metadata": {
        "id": "pNR7fa-HS57o"
      },
      "source": [
        "# SA with VADER Sentiment Intensinty Model\n",
        "# Create lists to store the different scores for each word\n",
        "negative=[]\n",
        "neutral = []\n",
        "positive = []\n",
        "compound = []\n",
        "\n",
        "#Initialize the model\n",
        "sid = SentimentIntensityAnalyzer()\n",
        "\n",
        "#Iterate for each row of lyrics and append the scores\n",
        "for i in df_final.index:\n",
        "    scores = sid.polarity_scores(df_final['new'].iloc[i])\n",
        "    negative.append(scores['neg'])\n",
        "    neutral.append(scores['neu'])\n",
        "    positive.append(scores['pos'])\n",
        "    compound.append(scores['compound'])\n",
        "\n",
        "#Create 4 columns to the main data frame  for each score \n",
        "df_final['negative'] = negative\n",
        "df_final['neutral'] = neutral\n",
        "df_final['positive'] = positive\n",
        "df_final['compound'] = compound\n",
        "\n",
        "\n",
        "# Final Label considering 3 categories : pos, neu and neg\n",
        "finalscore = []\n",
        "for i in range(len(df_final)):\n",
        "  if df_final['neutral'][i]>0.625:\n",
        "    finalscore.append('neutral')\n",
        "  elif df_final['positive'][i] > df_final['negative'][i]:\n",
        "    finalscore.append('positive')\n",
        "  else:\n",
        "    finalscore.append('negative')\n",
        "\n",
        "df_final['SI Score'] = finalscore\n",
        "\n",
        "# Final Label considering 2 categories : neu, non-neu\n",
        "nltk_cat = []\n",
        "for i in range(len(df_final)):\n",
        "  if df_final['neutral'][i]>0.625:\n",
        "    nltk_cat.append('neutral')\n",
        "  else:\n",
        "    nltk_cat.append('non-neutral')\n",
        "\n",
        "df_final['NLTK Class'] = nltk_cat\n",
        "\n",
        "#df_final.groupby('sentiment')['positive'].describe()"
      ],
      "execution_count": null,
      "outputs": []
    },
    {
      "cell_type": "code",
      "metadata": {
        "id": "8M4cl05dtqdS",
        "colab": {
          "base_uri": "https://localhost:8080/",
          "height": 633
        },
        "outputId": "e2ea15c8-ed80-4e87-9cd9-e4a6304c6406"
      },
      "source": [
        "df_final.head()"
      ],
      "execution_count": null,
      "outputs": [
        {
          "output_type": "execute_result",
          "data": {
            "text/html": [
              "<div>\n",
              "<style scoped>\n",
              "    .dataframe tbody tr th:only-of-type {\n",
              "        vertical-align: middle;\n",
              "    }\n",
              "\n",
              "    .dataframe tbody tr th {\n",
              "        vertical-align: top;\n",
              "    }\n",
              "\n",
              "    .dataframe thead th {\n",
              "        text-align: right;\n",
              "    }\n",
              "</style>\n",
              "<table border=\"1\" class=\"dataframe\">\n",
              "  <thead>\n",
              "    <tr style=\"text-align: right;\">\n",
              "      <th></th>\n",
              "      <th>artist</th>\n",
              "      <th>song_name</th>\n",
              "      <th>lyrics_processed</th>\n",
              "      <th>link</th>\n",
              "      <th>date</th>\n",
              "      <th>sentiment</th>\n",
              "      <th>Description</th>\n",
              "      <th>Featured Artist</th>\n",
              "      <th>genre</th>\n",
              "      <th>lyrics</th>\n",
              "      <th>explicit_rating</th>\n",
              "      <th>year</th>\n",
              "      <th>decade</th>\n",
              "      <th>new</th>\n",
              "      <th>blob</th>\n",
              "      <th>polarity</th>\n",
              "      <th>subjectivity</th>\n",
              "      <th>blob_score</th>\n",
              "      <th>negative</th>\n",
              "      <th>neutral</th>\n",
              "      <th>positive</th>\n",
              "      <th>compound</th>\n",
              "      <th>SI Score</th>\n",
              "      <th>NLTK Class</th>\n",
              "    </tr>\n",
              "  </thead>\n",
              "  <tbody>\n",
              "    <tr>\n",
              "      <th>0</th>\n",
              "      <td>Adele</td>\n",
              "      <td>Hello</td>\n",
              "      <td>hello it's me i was wondering if after all the...</td>\n",
              "      <td>http://www.youtube.com/watch?v=YQHsXMglC9A</td>\n",
              "      <td>2015-10-23</td>\n",
              "      <td>negative</td>\n",
              "      <td>In this digital and single-driven age, it’s ve...</td>\n",
              "      <td>NaN</td>\n",
              "      <td>Pop</td>\n",
              "      <td>[Verse 1]\\nHello, it's me\\nI was wondering if ...</td>\n",
              "      <td>0.0</td>\n",
              "      <td>2015.0</td>\n",
              "      <td>2010s</td>\n",
              "      <td>hello wondering years like meet go everything ...</td>\n",
              "      <td>(-0.17681159420289855, 0.5130434782608696)</td>\n",
              "      <td>-0.176812</td>\n",
              "      <td>0.513043</td>\n",
              "      <td>negative</td>\n",
              "      <td>0.185</td>\n",
              "      <td>0.712</td>\n",
              "      <td>0.103</td>\n",
              "      <td>-0.6808</td>\n",
              "      <td>neutral</td>\n",
              "      <td>neutral</td>\n",
              "    </tr>\n",
              "    <tr>\n",
              "      <th>1</th>\n",
              "      <td>Adele</td>\n",
              "      <td>Someone Like You</td>\n",
              "      <td>i heard that you're settled down that you foun...</td>\n",
              "      <td>http://www.youtube.com/watch?v=hLQl3WQQoQ0</td>\n",
              "      <td>2011-01-24</td>\n",
              "      <td>negative</td>\n",
              "      <td>In this digital and single-driven age, it’s ve...</td>\n",
              "      <td>NaN</td>\n",
              "      <td>Pop</td>\n",
              "      <td>[Verse 1]\\nI heard that you're settled down\\nT...</td>\n",
              "      <td>0.0</td>\n",
              "      <td>2011.0</td>\n",
              "      <td>2010s</td>\n",
              "      <td>heard settled found girl married heard dreams ...</td>\n",
              "      <td>(0.28095238095238095, 0.4428571428571427)</td>\n",
              "      <td>0.280952</td>\n",
              "      <td>0.442857</td>\n",
              "      <td>positive</td>\n",
              "      <td>0.234</td>\n",
              "      <td>0.451</td>\n",
              "      <td>0.315</td>\n",
              "      <td>0.9574</td>\n",
              "      <td>positive</td>\n",
              "      <td>non-neutral</td>\n",
              "    </tr>\n",
              "    <tr>\n",
              "      <th>2</th>\n",
              "      <td>Adele</td>\n",
              "      <td>When We Were Young</td>\n",
              "      <td>everybody loves the things you do from the way...</td>\n",
              "      <td>http://www.youtube.com/watch?v=WyVS2N8aK-U</td>\n",
              "      <td>2015-11-20</td>\n",
              "      <td>neutral</td>\n",
              "      <td>In this digital and single-driven age, it’s ve...</td>\n",
              "      <td>NaN</td>\n",
              "      <td>Pop</td>\n",
              "      <td>[Verse 1]\\nEverybody loves the things you do\\n...</td>\n",
              "      <td>0.0</td>\n",
              "      <td>2015.0</td>\n",
              "      <td>2010s</td>\n",
              "      <td>everybody loves things way talk way move every...</td>\n",
              "      <td>(0.062037037037037064, 0.4178240740740741)</td>\n",
              "      <td>0.062037</td>\n",
              "      <td>0.417824</td>\n",
              "      <td>positive</td>\n",
              "      <td>0.144</td>\n",
              "      <td>0.538</td>\n",
              "      <td>0.318</td>\n",
              "      <td>0.9867</td>\n",
              "      <td>positive</td>\n",
              "      <td>non-neutral</td>\n",
              "    </tr>\n",
              "    <tr>\n",
              "      <th>3</th>\n",
              "      <td>Adele</td>\n",
              "      <td>All I Ask</td>\n",
              "      <td>i will leave my heart at the door i won't say ...</td>\n",
              "      <td>http://www.youtube.com/watch?v=GcHVHPPWkvI</td>\n",
              "      <td>2015-11-20</td>\n",
              "      <td>negative</td>\n",
              "      <td>In this digital and single-driven age, it’s ve...</td>\n",
              "      <td>NaN</td>\n",
              "      <td>Pop</td>\n",
              "      <td>[Verse 1]\\nI will leave my heart at the door\\n...</td>\n",
              "      <td>0.0</td>\n",
              "      <td>2015.0</td>\n",
              "      <td>2010s</td>\n",
              "      <td>leave heart door say word said know play prete...</td>\n",
              "      <td>(-0.19642857142857142, 0.5206349206349206)</td>\n",
              "      <td>-0.196429</td>\n",
              "      <td>0.520635</td>\n",
              "      <td>negative</td>\n",
              "      <td>0.228</td>\n",
              "      <td>0.444</td>\n",
              "      <td>0.328</td>\n",
              "      <td>0.9062</td>\n",
              "      <td>positive</td>\n",
              "      <td>non-neutral</td>\n",
              "    </tr>\n",
              "    <tr>\n",
              "      <th>4</th>\n",
              "      <td>Adele</td>\n",
              "      <td>Rolling in the Deep</td>\n",
              "      <td>there's a fire starting in my heart reaching a...</td>\n",
              "      <td>http://www.youtube.com/watch?v=rYEDA3JcQqw</td>\n",
              "      <td>2010-11-29</td>\n",
              "      <td>negative</td>\n",
              "      <td>In this digital and single-driven age, it’s ve...</td>\n",
              "      <td>NaN</td>\n",
              "      <td>Pop</td>\n",
              "      <td>[Verse 1]\\nThere's a fire starting in my heart...</td>\n",
              "      <td>1.0</td>\n",
              "      <td>2010.0</td>\n",
              "      <td>2010s</td>\n",
              "      <td>fire starting heart reaching fever pitch bring...</td>\n",
              "      <td>(0.0859375, 0.4491319444444446)</td>\n",
              "      <td>0.085938</td>\n",
              "      <td>0.449132</td>\n",
              "      <td>positive</td>\n",
              "      <td>0.177</td>\n",
              "      <td>0.542</td>\n",
              "      <td>0.280</td>\n",
              "      <td>0.9926</td>\n",
              "      <td>positive</td>\n",
              "      <td>non-neutral</td>\n",
              "    </tr>\n",
              "  </tbody>\n",
              "</table>\n",
              "</div>"
            ],
            "text/plain": [
              "  artist            song_name  ...  SI Score   NLTK Class\n",
              "0  Adele                Hello  ...   neutral      neutral\n",
              "1  Adele     Someone Like You  ...  positive  non-neutral\n",
              "2  Adele   When We Were Young  ...  positive  non-neutral\n",
              "3  Adele            All I Ask  ...  positive  non-neutral\n",
              "4  Adele  Rolling in the Deep  ...  positive  non-neutral\n",
              "\n",
              "[5 rows x 24 columns]"
            ]
          },
          "metadata": {
            "tags": []
          },
          "execution_count": 21
        }
      ]
    },
    {
      "cell_type": "code",
      "metadata": {
        "id": "1Na_yaAgRp0S",
        "colab": {
          "base_uri": "https://localhost:8080/",
          "height": 345
        },
        "outputId": "4ee3d09f-7e89-414b-9273-4c27ec96b450"
      },
      "source": [
        "#Performance of Textblob in classifying Positive/Negative Sentiment\n",
        "df_final['blob_score'].value_counts().plot(kind='bar', color ='c')\n",
        "plt.xlabel('Number of Occurences')\n",
        "plt.ylabel('Polarity of Sentiment')\n",
        "plt.title('Performance of TextBlob Model : Positive/Negative Polarity')"
      ],
      "execution_count": null,
      "outputs": [
        {
          "output_type": "execute_result",
          "data": {
            "text/plain": [
              "Text(0.5, 1.0, 'Performance of TextBlob Model : Positive/Negative Polarity')"
            ]
          },
          "metadata": {
            "tags": []
          },
          "execution_count": 22
        },
        {
          "output_type": "display_data",
          "data": {
            "image/png": "[encoded data removed]",
            "text/plain": [
              "<Figure size 432x288 with 1 Axes>"
            ]
          },
          "metadata": {
            "tags": [],
            "needs_background": "light"
          }
        }
      ]
    },
    {
      "cell_type": "code",
      "metadata": {
        "colab": {
          "base_uri": "https://localhost:8080/",
          "height": 311
        },
        "id": "11HpEN7US3HG",
        "outputId": "a16b12cf-ea81-4781-b442-259375f41358"
      },
      "source": [
        "#Performance of Textblob : Subjectivity vs Polarity / Scatter Plot\n",
        "means_df = df_final.groupby(['decade']).mean()\n",
        "for name, group in means_df.groupby(['decade']):\n",
        "    plt.scatter(group['polarity'],group['subjectivity'],label=name, s=50)\n",
        "plt.xlim([0,0.2]), \n",
        "plt.ylim([0,0.7])\n",
        "plt.xlabel('polarity')\n",
        "plt.ylabel('subjectviity')\n",
        "plt.legend()\n",
        "plt.title(' Polarity/Subjectivity of songs over time')"
      ],
      "execution_count": null,
      "outputs": [
        {
          "output_type": "execute_result",
          "data": {
            "text/plain": [
              "Text(0.5, 1.0, ' Polarity/Subjectivity of songs over time')"
            ]
          },
          "metadata": {
            "tags": []
          },
          "execution_count": 23
        },
        {
          "output_type": "display_data",
          "data": {
            "image/png": "[encoded data removed]",
            "text/plain": [
              "<Figure size 432x288 with 1 Axes>"
            ]
          },
          "metadata": {
            "tags": [],
            "needs_background": "light"
          }
        }
      ]
    },
    {
      "cell_type": "code",
      "metadata": {
        "colab": {
          "base_uri": "https://localhost:8080/",
          "height": 311
        },
        "id": "lCBHex1gJXKG",
        "outputId": "573113e3-664c-4a08-c194-c6d24365af4e"
      },
      "source": [
        "#Polarity across decades\n",
        "means_df = df_final.groupby(['decade']).polarity.agg(['mean']).plot(color='red') \n",
        "plt.ylim([0,0.7])\n",
        "plt.xlabel('Decades')\n",
        "plt.ylabel('Average Polarity')\n",
        "plt.legend()\n",
        "plt.title('Trend for Polarity over time')"
      ],
      "execution_count": null,
      "outputs": [
        {
          "output_type": "execute_result",
          "data": {
            "text/plain": [
              "Text(0.5, 1.0, 'Trend for Polarity over time')"
            ]
          },
          "metadata": {
            "tags": []
          },
          "execution_count": 24
        },
        {
          "output_type": "display_data",
          "data": {
            "image/png": "[encoded data removed]",
            "text/plain": [
              "<Figure size 432x288 with 1 Axes>"
            ]
          },
          "metadata": {
            "tags": [],
            "needs_background": "light"
          }
        }
      ]
    },
    {
      "cell_type": "code",
      "metadata": {
        "colab": {
          "base_uri": "https://localhost:8080/",
          "height": 415
        },
        "id": "nxGBoBuzCjbL",
        "outputId": "b5bde79b-8438-4330-91c3-e19ca70cda5b"
      },
      "source": [
        "#Data for distribution of genres.\n",
        "df_final.groupby('genre').decade.agg(['count']).head(50).plot(kind ='bar',color='b')\n",
        "plt.xlabel('Genre')\n",
        "plt.ylabel('Number of Songs')\n",
        "plt.legend()\n",
        "plt.title('Distribution of Songs Across Genres in Dataset')"
      ],
      "execution_count": null,
      "outputs": [
        {
          "output_type": "execute_result",
          "data": {
            "text/plain": [
              "Text(0.5, 1.0, 'Distribution of Songs Across Genres in Dataset')"
            ]
          },
          "metadata": {
            "tags": []
          },
          "execution_count": 25
        },
        {
          "output_type": "display_data",
          "data": {
            "image/png": "[encoded data removed]",
            "text/plain": [
              "<Figure size 432x288 with 1 Axes>"
            ]
          },
          "metadata": {
            "tags": [],
            "needs_background": "light"
          }
        }
      ]
    },
    {
      "cell_type": "code",
      "metadata": {
        "colab": {
          "base_uri": "https://localhost:8080/"
        },
        "id": "J3IbnKunDolX",
        "outputId": "cb3aec6b-52af-4a09-9ab5-44e26b6de09f"
      },
      "source": [
        "#Uneven dist of genres across decades\n",
        "l_df = df_final.groupby(['genre', 'decade']).size().head(10000)\n",
        "l_df"
      ],
      "execution_count": null,
      "outputs": [
        {
          "output_type": "execute_result",
          "data": {
            "text/plain": [
              "genre                decade\n",
              "Acoustic Blues       2000s     17\n",
              "                     2010s     29\n",
              "Alternative          1960s      3\n",
              "                     1970s     14\n",
              "                     1980s     26\n",
              "                               ..\n",
              "Vocal Jazz           1990s     14\n",
              "                     2000s     14\n",
              "                     2010s     11\n",
              "World/International  2000s      2\n",
              "                     2010s     25\n",
              "Length: 149, dtype: int64"
            ]
          },
          "metadata": {
            "tags": []
          },
          "execution_count": 26
        }
      ]
    },
    {
      "cell_type": "code",
      "metadata": {
        "colab": {
          "base_uri": "https://localhost:8080/",
          "height": 311
        },
        "id": "0ZhL_vvf_dEZ",
        "outputId": "baae4d3d-adf0-4511-f08f-311658da3c6f"
      },
      "source": [
        "#Trend for explicit rating over time\n",
        "l_df = df_final.groupby('decade').explicit_rating.agg(['mean']).head(10).plot(color='y')\n",
        "plt.xlabel('Decade')\n",
        "plt.ylabel('Average Explicit Rating')\n",
        "plt.legend()\n",
        "plt.title('Trend for explicit rating over time')"
      ],
      "execution_count": null,
      "outputs": [
        {
          "output_type": "execute_result",
          "data": {
            "text/plain": [
              "Text(0.5, 1.0, 'Trend for explicit rating over time')"
            ]
          },
          "metadata": {
            "tags": []
          },
          "execution_count": 27
        },
        {
          "output_type": "display_data",
          "data": {
            "image/png": "[encoded data removed]",
            "text/plain": [
              "<Figure size 432x288 with 1 Axes>"
            ]
          },
          "metadata": {
            "tags": [],
            "needs_background": "light"
          }
        }
      ]
    },
    {
      "cell_type": "code",
      "metadata": {
        "colab": {
          "base_uri": "https://localhost:8080/",
          "height": 415
        },
        "id": "72nbbVOZG2KA",
        "outputId": "07461330-561b-461d-a451-ac4cc659980b"
      },
      "source": [
        "#Trend for explicit rating for genres\n",
        "l_df = df_final.groupby('genre').explicit_rating.agg(['mean']).head(50).plot(kind ='bar',color='g',figsize=(8,4))\n",
        "plt.xlabel('Genre')\n",
        "plt.ylabel('Average Explicit Rating')\n",
        "plt.legend()\n",
        "plt.title('Comparing Explicit Ratings across Genres')"
      ],
      "execution_count": null,
      "outputs": [
        {
          "output_type": "execute_result",
          "data": {
            "text/plain": [
              "Text(0.5, 1.0, 'Comparing Explicit Ratings across Genres')"
            ]
          },
          "metadata": {
            "tags": []
          },
          "execution_count": 28
        },
        {
          "output_type": "display_data",
          "data": {
            "image/png": "[encoded data removed]",
            "text/plain": [
              "<Figure size 576x288 with 1 Axes>"
            ]
          },
          "metadata": {
            "tags": [],
            "needs_background": "light"
          }
        }
      ]
    },
    {
      "cell_type": "code",
      "metadata": {
        "colab": {
          "base_uri": "https://localhost:8080/",
          "height": 220
        },
        "id": "Tv5pgp7AV3vI",
        "outputId": "9cb8ddc9-8a28-4dca-9b32-a95b8f9aaf44"
      },
      "source": [
        "#Average polarity of songs by genre for 5 most common genres\n",
        "import matplotlib.pyplot as plt\n",
        "df_final.groupby('genre').polarity.agg(['count','mean']).sort_values(['count','mean'],ascending=[False,True]).head()"
      ],
      "execution_count": null,
      "outputs": [
        {
          "output_type": "execute_result",
          "data": {
            "text/html": [
              "<div>\n",
              "<style scoped>\n",
              "    .dataframe tbody tr th:only-of-type {\n",
              "        vertical-align: middle;\n",
              "    }\n",
              "\n",
              "    .dataframe tbody tr th {\n",
              "        vertical-align: top;\n",
              "    }\n",
              "\n",
              "    .dataframe thead th {\n",
              "        text-align: right;\n",
              "    }\n",
              "</style>\n",
              "<table border=\"1\" class=\"dataframe\">\n",
              "  <thead>\n",
              "    <tr style=\"text-align: right;\">\n",
              "      <th></th>\n",
              "      <th>count</th>\n",
              "      <th>mean</th>\n",
              "    </tr>\n",
              "    <tr>\n",
              "      <th>genre</th>\n",
              "      <th></th>\n",
              "      <th></th>\n",
              "    </tr>\n",
              "  </thead>\n",
              "  <tbody>\n",
              "    <tr>\n",
              "      <th>Country</th>\n",
              "      <td>2072</td>\n",
              "      <td>0.123452</td>\n",
              "    </tr>\n",
              "    <tr>\n",
              "      <th>Pop</th>\n",
              "      <td>2065</td>\n",
              "      <td>0.129113</td>\n",
              "    </tr>\n",
              "    <tr>\n",
              "      <th>Rock</th>\n",
              "      <td>958</td>\n",
              "      <td>0.089633</td>\n",
              "    </tr>\n",
              "    <tr>\n",
              "      <th>Hip-Hop/Rap</th>\n",
              "      <td>826</td>\n",
              "      <td>0.027844</td>\n",
              "    </tr>\n",
              "    <tr>\n",
              "      <th>R&amp;B/Soul</th>\n",
              "      <td>674</td>\n",
              "      <td>0.135919</td>\n",
              "    </tr>\n",
              "  </tbody>\n",
              "</table>\n",
              "</div>"
            ],
            "text/plain": [
              "             count      mean\n",
              "genre                       \n",
              "Country       2072  0.123452\n",
              "Pop           2065  0.129113\n",
              "Rock           958  0.089633\n",
              "Hip-Hop/Rap    826  0.027844\n",
              "R&B/Soul       674  0.135919"
            ]
          },
          "metadata": {
            "tags": []
          },
          "execution_count": 29
        }
      ]
    },
    {
      "cell_type": "code",
      "metadata": {
        "colab": {
          "base_uri": "https://localhost:8080/",
          "height": 415
        },
        "id": "7hBwYmHTApe7",
        "outputId": "5d258272-2c1c-4a3b-ce1c-d066edb2c677"
      },
      "source": [
        "#Average polarity of songs by Genre\n",
        "import matplotlib.pyplot as plt\n",
        "l_df = df_final.groupby('genre').polarity.agg(['count','mean']).sort_values(['count','mean'],ascending=[False,True]).head(50)\n",
        "l_df2 = l_df.T\n",
        "l_df3 = l_df2.drop(['count'])\n",
        "l_df3.T.plot(kind ='bar',color='g',figsize=(8,4))\n",
        "plt.xlabel('Genre')\n",
        "plt.ylabel('Average Polarity')\n",
        "plt.legend()\n",
        "plt.title('Average Lyrics Polarity for Genres')"
      ],
      "execution_count": null,
      "outputs": [
        {
          "output_type": "execute_result",
          "data": {
            "text/plain": [
              "Text(0.5, 1.0, 'Average Lyrics Polarity for Genres')"
            ]
          },
          "metadata": {
            "tags": []
          },
          "execution_count": 30
        },
        {
          "output_type": "display_data",
          "data": {
            "image/png": "[encoded data removed]",
            "text/plain": [
              "<Figure size 576x288 with 1 Axes>"
            ]
          },
          "metadata": {
            "tags": [],
            "needs_background": "light"
          }
        }
      ]
    },
    {
      "cell_type": "code",
      "metadata": {
        "id": "bwEgcKeFH0Y9"
      },
      "source": [
        "#Average pos/neg/neu polarity of songs across Genre\n",
        "(\n",
        "    df_final.groupby (['genre'])[['positive','negative']]\n",
        " .agg({'positive':'mean', 'negative':'mean'})\n",
        " .plot (kind='bar',figsize=(20,10))\n",
        ")\n",
        "plt.xlabel('Genre')\n",
        "plt.ylabel('Polarity')\n",
        "plt.legend()\n",
        "plt.title('Polarity across Genres')\n"
      ],
      "execution_count": null,
      "outputs": []
    },
    {
      "cell_type": "code",
      "metadata": {
        "colab": {
          "base_uri": "https://localhost:8080/",
          "height": 637
        },
        "id": "W-Op048HAlAh",
        "outputId": "1ec53ca7-5035-4db9-a488-876c3f92db9d"
      },
      "source": [
        "#Average pos/neg/neu polarity of songs across time\n",
        "(\n",
        "    df_final.groupby (['decade'])[['positive','negative','neutral']]\n",
        " .agg({'positive':'mean', 'negative':'mean','neutral':'mean'})\n",
        " .plot (figsize=(20,10))\n",
        ")\n",
        "plt.xlabel('Genre')\n",
        "plt.ylabel('Polarity')\n",
        "plt.legend()\n",
        "plt.title('Trend of polarity over the decades')"
      ],
      "execution_count": null,
      "outputs": [
        {
          "output_type": "execute_result",
          "data": {
            "text/plain": [
              "Text(0.5, 1.0, 'Trend of polarity over the decades')"
            ]
          },
          "metadata": {
            "tags": []
          },
          "execution_count": 54
        },
        {
          "output_type": "display_data",
          "data": {
            "image/png": "[encoded data removed]",
            "text/plain": [
              "<Figure size 1440x720 with 1 Axes>"
            ]
          },
          "metadata": {
            "tags": [],
            "needs_background": "light"
          }
        }
      ]
    },
    {
      "cell_type": "code",
      "metadata": {
        "colab": {
          "base_uri": "https://localhost:8080/",
          "height": 760
        },
        "id": "Rt4VFP3X_CCA",
        "outputId": "c2dfb47b-3ec2-427f-8d1f-ddbc742a2a95"
      },
      "source": [
        "#Average pos/neg/neu polarity of songs by Artist\n",
        "(\n",
        "    df_final.groupby (['artist'])[['positive','negative']]\n",
        " .agg({'positive':'mean', 'negative':'mean'})\n",
        " .sample(20)\n",
        " .plot (kind='bar',figsize=(20,10))\n",
        ")"
      ],
      "execution_count": null,
      "outputs": [
        {
          "output_type": "execute_result",
          "data": {
            "text/plain": [
              "<matplotlib.axes._subplots.AxesSubplot at 0x7f3d4ca9f7d0>"
            ]
          },
          "metadata": {
            "tags": []
          },
          "execution_count": 47
        },
        {
          "output_type": "display_data",
          "data": {
            "image/png": "[encoded data removed]",
            "text/plain": [
              "<Figure size 1440x720 with 1 Axes>"
            ]
          },
          "metadata": {
            "tags": [],
            "needs_background": "light"
          }
        }
      ]
    },
    {
      "cell_type": "code",
      "metadata": {
        "id": "4VInFpMoohpc"
      },
      "source": [
        "#Average polarity of songs by top 5 artist\n",
        "import matplotlib.pyplot as plt\n",
        "l_df = (\n",
        "    df_final.groupby('artist').polarity\n",
        "    .agg(['count','mean']).\n",
        "    sort_values(['count','mean'],ascending=[False,True])\n",
        "    .head(20))\n",
        "# l_df2 = l_df.T\n",
        "# l_df3 = l_df2.drop(['count'])\n",
        "# l_df3.T.plot(kind='bar', ax=ax, color = 'y')\n",
        "# plt.xlabel('Artist')\n",
        "# plt.ylabel('Average Polarity')\n",
        "# plt.legend()\n",
        "# ax.legend([\"Mean Polarity\"])\n",
        "# plt.title('Average Lyrics Polarity for Top 20 Occuring Artists')"
      ],
      "execution_count": null,
      "outputs": []
    },
    {
      "cell_type": "code",
      "metadata": {
        "colab": {
          "base_uri": "https://localhost:8080/",
          "height": 420
        },
        "id": "KOtJ5xvLj0rr",
        "outputId": "55b4ee1e-27fb-4f1a-9b21-a8f85496332f"
      },
      "source": [
        "#Negative Polarity and Profanity Relation\n",
        "(\n",
        "    df_final.groupby (['artist'])[['polarity','explicit_rating']]\n",
        " .agg({'polarity':'mean', 'explicit_rating':'mean'})\n",
        " .sort_values('polarity', ascending=True)\n",
        ")\n"
      ],
      "execution_count": null,
      "outputs": [
        {
          "output_type": "execute_result",
          "data": {
            "text/html": [
              "<div>\n",
              "<style scoped>\n",
              "    .dataframe tbody tr th:only-of-type {\n",
              "        vertical-align: middle;\n",
              "    }\n",
              "\n",
              "    .dataframe tbody tr th {\n",
              "        vertical-align: top;\n",
              "    }\n",
              "\n",
              "    .dataframe thead th {\n",
              "        text-align: right;\n",
              "    }\n",
              "</style>\n",
              "<table border=\"1\" class=\"dataframe\">\n",
              "  <thead>\n",
              "    <tr style=\"text-align: right;\">\n",
              "      <th></th>\n",
              "      <th>polarity</th>\n",
              "      <th>explicit_rating</th>\n",
              "    </tr>\n",
              "    <tr>\n",
              "      <th>artist</th>\n",
              "      <th></th>\n",
              "      <th></th>\n",
              "    </tr>\n",
              "  </thead>\n",
              "  <tbody>\n",
              "    <tr>\n",
              "      <th>Ke$hawn</th>\n",
              "      <td>-0.201528</td>\n",
              "      <td>12.500000</td>\n",
              "    </tr>\n",
              "    <tr>\n",
              "      <th>Ice Cube</th>\n",
              "      <td>-0.065259</td>\n",
              "      <td>13.100000</td>\n",
              "    </tr>\n",
              "    <tr>\n",
              "      <th>The Game</th>\n",
              "      <td>-0.052246</td>\n",
              "      <td>15.400000</td>\n",
              "    </tr>\n",
              "    <tr>\n",
              "      <th>Slipknot</th>\n",
              "      <td>-0.051294</td>\n",
              "      <td>5.224490</td>\n",
              "    </tr>\n",
              "    <tr>\n",
              "      <th>PnB Rock</th>\n",
              "      <td>-0.046471</td>\n",
              "      <td>10.906977</td>\n",
              "    </tr>\n",
              "    <tr>\n",
              "      <th>...</th>\n",
              "      <td>...</td>\n",
              "      <td>...</td>\n",
              "    </tr>\n",
              "    <tr>\n",
              "      <th>Michael Bolton</th>\n",
              "      <td>0.263604</td>\n",
              "      <td>0.058824</td>\n",
              "    </tr>\n",
              "    <tr>\n",
              "      <th>Andrea Bocelli</th>\n",
              "      <td>0.268828</td>\n",
              "      <td>0.750000</td>\n",
              "    </tr>\n",
              "    <tr>\n",
              "      <th>Alison Krauss &amp; Union Station</th>\n",
              "      <td>0.293050</td>\n",
              "      <td>0.000000</td>\n",
              "    </tr>\n",
              "    <tr>\n",
              "      <th>Porter Wagoner</th>\n",
              "      <td>0.324394</td>\n",
              "      <td>0.000000</td>\n",
              "    </tr>\n",
              "    <tr>\n",
              "      <th>Priyanka Chopra</th>\n",
              "      <td>0.341343</td>\n",
              "      <td>0.000000</td>\n",
              "    </tr>\n",
              "  </tbody>\n",
              "</table>\n",
              "<p>265 rows × 2 columns</p>\n",
              "</div>"
            ],
            "text/plain": [
              "                               polarity  explicit_rating\n",
              "artist                                                  \n",
              "Ke$hawn                       -0.201528        12.500000\n",
              "Ice Cube                      -0.065259        13.100000\n",
              "The Game                      -0.052246        15.400000\n",
              "Slipknot                      -0.051294         5.224490\n",
              "PnB Rock                      -0.046471        10.906977\n",
              "...                                 ...              ...\n",
              "Michael Bolton                 0.263604         0.058824\n",
              "Andrea Bocelli                 0.268828         0.750000\n",
              "Alison Krauss & Union Station  0.293050         0.000000\n",
              "Porter Wagoner                 0.324394         0.000000\n",
              "Priyanka Chopra                0.341343         0.000000\n",
              "\n",
              "[265 rows x 2 columns]"
            ]
          },
          "metadata": {
            "tags": []
          },
          "execution_count": 34
        }
      ]
    },
    {
      "cell_type": "code",
      "metadata": {
        "colab": {
          "base_uri": "https://localhost:8080/",
          "height": 413
        },
        "id": "XWYC6fgGDy3Z",
        "outputId": "e6bc8dae-94e8-437e-90c8-6192cdc7528b"
      },
      "source": [
        "#Average Profanity of songs by artists\n",
        "import matplotlib.pyplot as plt\n",
        "fig, ax = plt.subplots()\n",
        "#l_df = df_final.groupby('artist').polarity.agg(['count','mean']).sort_values(['count','mean'],ascending=[False,True]).head(20)\n",
        "m_df = df_final.groupby('artist').explicit_rating.agg(['mean']).sample().plot(kind='bar', ax=ax, color = 'y')\n",
        "plt.xlabel('Artist')\n",
        "plt.ylabel('Average Polarity')\n",
        "plt.legend()\n",
        "ax.legend([\"Mean Polarity\"])\n",
        "plt.title('Average Lyrics Polarity for Occuring Artists')"
      ],
      "execution_count": null,
      "outputs": [
        {
          "output_type": "execute_result",
          "data": {
            "text/plain": [
              "Text(0.5, 1.0, 'Average Lyrics Polarity for Occuring Artists')"
            ]
          },
          "metadata": {
            "tags": []
          },
          "execution_count": 101
        },
        {
          "output_type": "display_data",
          "data": {
            "image/png": "[encoded data removed]",
            "text/plain": [
              "<Figure size 432x288 with 1 Axes>"
            ]
          },
          "metadata": {
            "tags": [],
            "needs_background": "light"
          }
        }
      ]
    },
    {
      "cell_type": "code",
      "metadata": {
        "colab": {
          "base_uri": "https://localhost:8080/",
          "height": 361
        },
        "id": "VeiVX4JXSL0s",
        "outputId": "d99f4266-5dcc-4d06-88b1-b4ef15998aa9"
      },
      "source": [
        "#Performance of NLTK in classifying Neutral/Non-Neutral\n",
        "df_final['NLTK Class'].value_counts().plot(kind='bar')\n",
        "plt.xlabel('Number of Occurences')\n",
        "plt.ylabel('Polarity of Sentiment')\n",
        "plt.title('Performance of NLTK Model : Neutral/Non-neutral Polarity')"
      ],
      "execution_count": null,
      "outputs": [
        {
          "output_type": "execute_result",
          "data": {
            "text/plain": [
              "Text(0.5, 1.0, 'Performance of NLTK Model : Neutral/Non-neutral Polarity')"
            ]
          },
          "metadata": {
            "tags": []
          },
          "execution_count": 66
        },
        {
          "output_type": "display_data",
          "data": {
            "image/png": "[encoded data removed]",
            "text/plain": [
              "<Figure size 432x288 with 1 Axes>"
            ]
          },
          "metadata": {
            "tags": [],
            "needs_background": "light"
          }
        }
      ]
    },
    {
      "cell_type": "code",
      "metadata": {
        "colab": {
          "base_uri": "https://localhost:8080/",
          "height": 346
        },
        "id": "UWI25jvJSuj9",
        "outputId": "d4333cf5-dd32-43fd-dc9d-20cfe1b506ec"
      },
      "source": [
        "#Performance of NLTK in classifying Positive/Negative/Neutral\n",
        "df_final['SI Score'].value_counts().plot(kind='bar')\n",
        "plt.xlabel('Number of Occurences')\n",
        "plt.ylabel('Polarity of Sentiment')\n",
        "plt.title('Performance of NLTK Model : Positive/Negative/Neutral Polarity')"
      ],
      "execution_count": null,
      "outputs": [
        {
          "output_type": "execute_result",
          "data": {
            "text/plain": [
              "Text(0.5, 1.0, 'Performance of NLTK Model : Positive/Negative/Neutral Polarity')"
            ]
          },
          "metadata": {
            "tags": []
          },
          "execution_count": 67
        },
        {
          "output_type": "display_data",
          "data": {
            "image/png": "[encoded data removed]",
            "text/plain": [
              "<Figure size 432x288 with 1 Axes>"
            ]
          },
          "metadata": {
            "tags": [],
            "needs_background": "light"
          }
        }
      ]
    },
    {
      "cell_type": "code",
      "metadata": {
        "id": "MTYtDbwz5gYL"
      },
      "source": [
        "l_df = df_final.groupby('genre') #.agg(['count']).sort_values(['count'],ascending=[False,True]).head()\n",
        "means_df = l_df[]"
      ],
      "execution_count": null,
      "outputs": []
    },
    {
      "cell_type": "code",
      "metadata": {
        "id": "dXDp5K3Kwm-r",
        "colab": {
          "base_uri": "https://localhost:8080/"
        },
        "outputId": "df27a66a-00e3-4273-c17e-8fbbf8197ec0"
      },
      "source": [
        "#Results for Textblob\n",
        "df_final['blob_score'].value_counts()"
      ],
      "execution_count": null,
      "outputs": [
        {
          "output_type": "execute_result",
          "data": {
            "text/plain": [
              "positive    7191\n",
              "negative    2810\n",
              "Name: blob_score, dtype: int64"
            ]
          },
          "metadata": {
            "tags": []
          },
          "execution_count": 29
        }
      ]
    },
    {
      "cell_type": "code",
      "metadata": {
        "id": "7x8wLAwqkRCV",
        "colab": {
          "base_uri": "https://localhost:8080/"
        },
        "outputId": "2600a8f6-b965-411c-9b51-250131d0c044"
      },
      "source": [
        "#Results for NLTK\n",
        "df_final['NLTK Class'].value_counts()"
      ],
      "execution_count": null,
      "outputs": [
        {
          "output_type": "execute_result",
          "data": {
            "text/plain": [
              "non-neutral    5172\n",
              "neutral        4829\n",
              "Name: NLTK Class, dtype: int64"
            ]
          },
          "metadata": {
            "tags": []
          },
          "execution_count": 30
        }
      ]
    },
    {
      "cell_type": "code",
      "metadata": {
        "id": "wOx6yAJfptty",
        "colab": {
          "base_uri": "https://localhost:8080/"
        },
        "outputId": "9eee618f-7438-4068-a3a7-84015af11b3d"
      },
      "source": [
        "#Results for NLTK_SI\n",
        "df_final['SI Score'].value_counts()"
      ],
      "execution_count": null,
      "outputs": [
        {
          "output_type": "execute_result",
          "data": {
            "text/plain": [
              "neutral     4829\n",
              "positive    3429\n",
              "negative    1743\n",
              "Name: SI Score, dtype: int64"
            ]
          },
          "metadata": {
            "tags": []
          },
          "execution_count": 31
        }
      ]
    },
    {
      "cell_type": "code",
      "metadata": {
        "id": "-JPR28ghk84Q"
      },
      "source": [
        "# # Save the data into a csv file\n",
        "# df_final.to_csv('train_data.csv',index=False)"
      ],
      "execution_count": null,
      "outputs": []
    },
    {
      "cell_type": "code",
      "metadata": {
        "id": "CIRY1luZdWOt"
      },
      "source": [
        "y_pred_blob= list(df_final['blob_score'])\n",
        "y_pred_nltk = list(df_final['SI Score'])"
      ],
      "execution_count": null,
      "outputs": []
    },
    {
      "cell_type": "code",
      "metadata": {
        "id": "KzxU-RcAwSeV"
      },
      "source": [
        "senti = {'positive': 2,'neutral': 1,'negative':3, 'nan': 0}\n",
        "for item in range(len(y_pred_blob)):\n",
        "  try:\n",
        "    y_pred[item] = senti[str(y_pred[item])] \n",
        "  except:\n",
        "    print(item)"
      ],
      "execution_count": null,
      "outputs": []
    },
    {
      "cell_type": "code",
      "metadata": {
        "id": "ctEP6rGBcXu4"
      },
      "source": [
        "from sklearn.metrics import confusion_matrix\n",
        "from sklearn.metrics import accuracy_score\n",
        "from sklearn.metrics import f1_score\n",
        "print('Matrix: ',confusion_matrix(y_df, y_pred))\n",
        "print('accuracy: ' + str(accuracy_score(y_df, y_pred)))\n",
        "print('F1 Score: '+ str(f1_score(y_df, y_pred, average='macro')))"
      ],
      "execution_count": null,
      "outputs": []
    },
    {
      "cell_type": "code",
      "metadata": {
        "id": "AMfKEetzc3FQ"
      },
      "source": [
        ""
      ],
      "execution_count": null,
      "outputs": []
    }
  ]
}